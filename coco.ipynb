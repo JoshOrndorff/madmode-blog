{
 "metadata": {
  "name": "coco"
 }, 
 "nbformat": 2, 
 "worksheets": [
  {
   "cells": [
    {
     "cell_type": "code", 
     "collapsed": true, 
     "input": [
      "import cloadm", 
      "from cloadm import *"
     ], 
     "language": "python", 
     "outputs": [], 
     "prompt_number": 1
    }, 
    {
     "cell_type": "code", 
     "collapsed": true, 
     "input": [
      "level = logging.DEBUG"
     ], 
     "language": "python", 
     "outputs": [], 
     "prompt_number": 2
    }, 
    {
     "cell_type": "code", 
     "collapsed": true, 
     "input": [
      "tape_fn = '../lr-cut.wav'", 
      "dest_fn = 'light-runner'", 
      "tape = wave.open(tape_fn, 'r')", 
      "dest = open(dest_fn, 'w')"
     ], 
     "language": "python", 
     "outputs": [], 
     "prompt_number": 3
    }, 
    {
     "cell_type": "code", 
     "collapsed": false, 
     "input": [
      "framerate, signal = wavLoadMono(tape)", 
      "freqs, wave_ix = waves(signal, framerate)", 
      "threshold = 1400  # experimental; cf. (CoCo.rate0 + CoCo.rate1) / 2", 
      "bits = (freqs > threshold) + 0"
     ], 
     "language": "python", 
     "outputs": [], 
     "prompt_number": 4
    }, 
    {
     "cell_type": "code", 
     "collapsed": false, 
     "input": [
      "lo = int(framerate * 0.560)", 
      "hi = int(framerate * 0.580)", 
      "lo, hi", 
      "plot(arange(lo, hi), (signal / 3)[lo:hi])"
     ], 
     "language": "python", 
     "outputs": [
      {
       "output_type": "pyout", 
       "prompt_number": 5, 
       "text": [
        "[<matplotlib.lines.Line2D at 0x2a22390>]"
       ]
      }
     ], 
     "prompt_number": 5
    }, 
    {
     "cell_type": "code", 
     "collapsed": true, 
     "input": [
      "ix = intersect1d(where(wave_ix > lo)[0], where(wave_ix < hi)[0])"
     ], 
     "language": "python", 
     "outputs": [], 
     "prompt_number": 6
    }, 
    {
     "cell_type": "code", 
     "collapsed": false, 
     "input": [
      "plot(wave_ix[ix], freqs[ix], '*')"
     ], 
     "language": "python", 
     "outputs": [
      {
       "output_type": "pyout", 
       "prompt_number": 7, 
       "text": [
        "[<matplotlib.lines.Line2D at 0x2b61d50>]"
       ]
      }
     ], 
     "prompt_number": 7
    }, 
    {
     "cell_type": "code", 
     "collapsed": false, 
     "input": [
      "ones = ix[bits[ix] == 1]", 
      "zeros = ix[bits[ix] == 0]", 
      "plot(wave_ix[ones], bits[ones], '+')", 
      "plot(wave_ix[zeros], bits[zeros], 'o')"
     ], 
     "language": "python", 
     "outputs": [
      {
       "output_type": "pyout", 
       "prompt_number": 8, 
       "text": [
        "[<matplotlib.lines.Line2D at 0x2b65c10>]"
       ]
      }
     ], 
     "prompt_number": 8
    }, 
    {
     "cell_type": "code", 
     "collapsed": false, 
     "input": [
      "find_sync(bits)"
     ], 
     "language": "python", 
     "outputs": [
      {
       "output_type": "pyout", 
       "prompt_number": 9, 
       "text": [
        "1145"
       ]
      }
     ], 
     "prompt_number": 9
    }
   ]
  }
 ]
}