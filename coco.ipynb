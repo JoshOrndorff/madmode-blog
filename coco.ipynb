{
 "metadata": {
  "name": "coco"
 },
 "nbformat": 3,
 "nbformat_minor": 0,
 "worksheets": [
  {
   "cells": [
    {
     "cell_type": "heading",
     "level": 1,
     "metadata": {},
     "source": [
      "Light Runner, an exercise in digital preservation"
     ]
    },
    {
     "cell_type": "markdown",
     "metadata": {},
     "source": [
      "In my teens, I wrote a [Tron][] work-alike called _Light Runner_ in\n",
      "assembly for the Color Computer; I even got Prickly Pear Software to\n",
      "release it commercially. I can't find my source code (_Grrr!_), but I have a\n",
      "copy of the product on cassette tape. I didn't quite get it restored\n",
      "to working order, but I had some fun trying.\n",
      "\n",
      "[Tron]: http://en.wikipedia.org/wiki/Tron_(video_game)\n",
      "\n",
      "<figure>\n",
      "  <img src='https://lh5.googleusercontent.com/-HfOBzwjRTB0/UN9ciuLvwzI/AAAAAAAAAkA/T89gPR2lWvQ/w497-h373/IMG_20121229_145634.jpg' />\n",
      "  <figcaption>Light Runner and The Facts for the CoCo</figcaption>\n",
      "</figure"
     ]
    },
    {
     "cell_type": "markdown",
     "metadata": {},
     "source": [
      "The analog-to-digital-signal bit was only complicated by the fact that\n",
      "the cassette player couldn't be connected to my desktop:\n",
      "\n",
      "  1. put the cassette in the boombox\n",
      "  2. hook the boombox to the netbook\n",
      "  3. use \"Sound Recorder\" to make `lr.wma`\n",
      "  3. move `lr.wma` to my desktop via a thumb drive\n",
      "  5. use Audacity to chop off the dead air and save in `.wav` format\n",
      "\n",
      "<figure>\n",
      "  <img src='https://lh5.googleusercontent.com/-fOsav6xJGIs/UN9dyRBVMLI/AAAAAAAAAkc/FYLZAAs8Tec/s494/audacity-light-runner.png' />\n",
      "  <figcaption>Audio cassette data in Audacity</figcaption>\n",
      "</figure>"
     ]
    },
    {
     "cell_type": "markdown",
     "metadata": {},
     "source": [
      "\n",
      "**Processing the digital signal** involved a steep learning curve. As\n",
      "explained on pg. 10 of The FACTS:\n",
      "\n",
      ">  G. Cassette Interface - Cassette data is stored onto the tape\n",
      ">  using a format called Frequency Shift Keying (FSK). This means that\n",
      ">  two sine waves of differing frequency are used to zeroes and ones\n",
      ">  on the tape. A sine wave of 2400 hz is used to store a one, and a\n",
      ">  sine wave of 1200 Hertz is used to store a zero.\n",
      "\n",
      "I surfed around, wondering whether to make this an R project or a numpy project.\n",
      "The clincher was a StackOverflow clue on [detecting zero crossings][1] by Jim Brissom Oct 1 2010:\n",
      "\n",
      "[1]: http://stackoverflow.com/a/3843124"
     ]
    },
    {
     "cell_type": "code",
     "collapsed": false,
     "input": [
      "def zero_crossings(signal):\n",
      "    return numpy.where(numpy.diff(numpy.sign(signal)))[0]\n",
      "a = [1, 2, 1, 1, -3, -4, 7, 8, 9, 10, -2, 1, -3, 5, 6, 7, -10]\n",
      "zero_crossings(a)"
     ],
     "language": "python",
     "metadata": {},
     "outputs": [
      {
       "output_type": "pyout",
       "prompt_number": 2,
       "text": [
        "array([ 3,  5,  9, 10, 11, 12, 15])"
       ]
      }
     ],
     "prompt_number": 2
    },
    {
     "cell_type": "markdown",
     "metadata": {},
     "source": [
      "Making a numpy array out of a `.wav` file is a piece of cake\n",
      "(@@see `cloadm.py`)"
     ]
    },
    {
     "cell_type": "code",
     "collapsed": false,
     "input": [
      "import wave\n",
      "import cloadm as c\n",
      "tape_fn = 'lr-cut.wav'\n",
      "dest_fn = 'light-runner'\n",
      "tape = wave.open(tape_fn, 'r')\n",
      "dest = open(dest_fn, 'w')\n",
      "framerate, signal = c.wavLoadMono(tape)\n",
      "framerate, len(signal), signal[:5]"
     ],
     "language": "python",
     "metadata": {},
     "outputs": [
      {
       "output_type": "pyout",
       "prompt_number": 3,
       "text": [
        "(44100, 1223945, array([1180, 1234, 1238, 1200, 1186]))"
       ]
      }
     ],
     "prompt_number": 3
    },
    {
     "cell_type": "markdown",
     "metadata": {},
     "source": [
      "I struggled for the longest time trying to turn that signal into bits and bytes,\n",
      "poring over the disassembly, wondering what I'd missed:\n",
      "\n",
      "    *** LOOK FOR THE SYNC BYTES - RETURN WITH ACCA = 0 IF SYNC\u2019ED\n",
      "    *** ON HI - LO TRANSITION, ACCA = $A0 IF SYNC\u2019ED ON THE\n",
      "    *** LO - HI TRANSITION OF THE INPUT SIGNAL FROM THE CASSETTE.\n",
      "    CASON  ORCC   #$50      DISABLE IRQ,FIRQ\n",
      "           BSR    LA7CA     TURN ON TAPE DECK MOTOR\n",
      "           CLR    CPULWD    RESET UP TO SPEED COUNTER\n",
      "    LA782  BSR    LA763     WAIT FOR LO-HI TRANSITION\n",
      "    LA784  BSR    LA7AD     WAIT FOR HI-LO TRANSITION\n",
      "           BHI    LA797     CASSETTE SPEED IN RANGE FOR 1200 HZ\n",
      "    LA788  BSR    LA7A7     WAIT FOR LO-HI TRANSITION\n",
      "           BCS    LA79B     CASSETTE SPEED IN RANGE FOR 2400 HZ\n",
      "           DEC    CPULWD    DECREMENT UP TO SPEED COUNTER IF SYNC\u2019ED ON LO-HI\n",
      "           LDA    CPULWD    GET IT\n",
      "           CMPA   #-96      HAVE THERE BEEN 96 CONSECUTIVE 1-0-1-0 PATTERNS\n",
      "    LA792  BNE    LA782     NO\n",
      "           STA    CBTPHA    SAVE WHICH TRANSITION (HI-LO OR LO-HI)\n",
      "           RTS"
     ]
    },
    {
     "cell_type": "code",
     "collapsed": true,
     "input": [
      "freqs, wave_ix = c.waves(signal, framerate)\n",
      "threshold = 1400  # experimental; cf. (CoCo.rate0 + CoCo.rate1) / 2\n",
      "bits = (freqs > threshold) + 0"
     ],
     "language": "python",
     "metadata": {},
     "outputs": [],
     "prompt_number": 4
    },
    {
     "cell_type": "code",
     "collapsed": false,
     "input": [
      "%pylab inline"
     ],
     "language": "python",
     "metadata": {},
     "outputs": [
      {
       "output_type": "stream",
       "stream": "stdout",
       "text": [
        "\n",
        "Welcome to pylab, a matplotlib-based Python environment [backend: module://IPython.zmq.pylab.backend_inline].\n",
        "For more information, type 'help(pylab)'.\n"
       ]
      }
     ],
     "prompt_number": 6
    },
    {
     "cell_type": "code",
     "collapsed": false,
     "input": [
      "lo = int(framerate * 0.560)\n",
      "hi = int(framerate * 0.580)\n",
      "lo, hi\n",
      "plot(arange(lo, hi), (signal / 3)[lo:hi])"
     ],
     "language": "python",
     "metadata": {},
     "outputs": [
      {
       "output_type": "pyout",
       "prompt_number": 8,
       "text": [
        "[<matplotlib.lines.Line2D at 0x43e0f50>]"
       ]
      }
     ],
     "prompt_number": 8
    },
    {
     "cell_type": "code",
     "collapsed": true,
     "input": [
      "ix = intersect1d(where(wave_ix > lo)[0], where(wave_ix < hi)[0])"
     ],
     "language": "python",
     "metadata": {},
     "outputs": [],
     "prompt_number": 6
    },
    {
     "cell_type": "code",
     "collapsed": false,
     "input": [
      "plot(wave_ix[ix], freqs[ix], '*')"
     ],
     "language": "python",
     "metadata": {},
     "outputs": [
      {
       "output_type": "pyout",
       "prompt_number": 7,
       "text": [
        "[<matplotlib.lines.Line2D at 0x2b61d50>]"
       ]
      }
     ],
     "prompt_number": 7
    },
    {
     "cell_type": "code",
     "collapsed": false,
     "input": [
      "ones = ix[bits[ix] == 1]\n",
      "zeros = ix[bits[ix] == 0]\n",
      "plot(wave_ix[ones], bits[ones], '+')\n",
      "plot(wave_ix[zeros], bits[zeros], 'o')"
     ],
     "language": "python",
     "metadata": {},
     "outputs": [
      {
       "output_type": "pyout",
       "prompt_number": 8,
       "text": [
        "[<matplotlib.lines.Line2D at 0x2b65c10>]"
       ]
      }
     ],
     "prompt_number": 8
    },
    {
     "cell_type": "markdown",
     "metadata": {},
     "source": [
      "**Watch out for zeros**"
     ]
    },
    {
     "cell_type": "code",
     "collapsed": true,
     "input": [
      "def zero_crossings(signal):\n",
      "    return numpy.where(numpy.diff(numpy.sign(signal) > 0))[0]\n",
      " \n",
      "zero_crossings([2, 1, 0, -1, -2, 1, 4, -4])"
     ],
     "language": "python",
     "metadata": {},
     "outputs": []
    },
    {
     "cell_type": "code",
     "collapsed": false,
     "input": [
      "find_sync(bits)"
     ],
     "language": "python",
     "metadata": {},
     "outputs": [
      {
       "output_type": "pyout",
       "prompt_number": 9,
       "text": [
        "1145"
       ]
      }
     ],
     "prompt_number": 9
    },
    {
     "cell_type": "markdown",
     "metadata": {},
     "source": [
      "## Emulators@@\n",
      "\n",
      "error message in ~/Pictures/\n",
      "\n",
      " Brad Grier | 14 Dec 2011 19:55\n",
      " Re: Where's Mocha (In Case You're Wondering)\n",
      " -> http://five.pairlist.net/pipermail/coco/2012-December/thread.html\n",
      "\n",
      "casin\n",
      "\n",
      "  - wine cmd... nope\n",
      "  - dosbox...\n",
      "  - 11025 hz... ok, back to audacity\n",
      "  - 8 bit?!\n",
      "\n",
      "    $ sox ../../lr-cut.wav -r 11025 -b 8 lr8.wav"
     ]
    },
    {
     "cell_type": "markdown",
     "metadata": {},
     "source": [
      "## Colophon\n",
      "\n",
      "I'm trying out IPython as an authoring tool.\n",
      "I'm fond of the interactive notebook idea.\n",
      "This isn't as mature as RStudio---there are some glitches\n",
      "with selecting cells for editing---but I like it.\n",
      "\n",
      "Aha... to get inline plots, I upgraded to 0.13. Even nicer!\n",
      "\n",
      "_@@hmm... only one copy of this... move 2012 folder to DropBox?_"
     ]
    },
    {
     "cell_type": "markdown",
     "metadata": {},
     "source": [
      "## Fodder@@\n",
      "\n",
      "\n",
      "[color-basic-unravelled.pdf][cbu]\n",
      "\n",
      "[cbu]: https://sites.google.com/a/aaronwolfe.com/cococoding/home/docs/color-basic-unravelled.pdf?attredirects=0&d=1\n",
      "\n",
      "/media/family-media/1986-cocodisks/RCS/os9disk.py,v\n",
      "\n",
      "http://www.w3.org/People/Connolly/support/\n",
      "\n",
      "my diigo library"
     ]
    }
   ],
   "metadata": {}
  }
 ]
}