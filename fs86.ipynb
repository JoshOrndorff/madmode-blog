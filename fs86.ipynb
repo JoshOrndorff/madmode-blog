{
 "metadata": {
  "name": ""
 },
 "nbformat": 3,
 "nbformat_minor": 0,
 "worksheets": [
  {
   "cells": [
    {
     "cell_type": "heading",
     "level": 1,
     "metadata": {},
     "source": [
      "Putting my old proofs in the Web: Natural Deduction"
     ]
    },
    {
     "cell_type": "markdown",
     "metadata": {},
     "source": [
      "My quest to to find a good digital preservation technique for my college math and computer science notebooks has been rekindled most recently by [idris](http://www.idris-lang.org/) and earlier by [metamath](http://us.metamath.org/index.html) and [proofcheck](https://pypi.python.org/pypi/proofcheck)."
     ]
    },
    {
     "cell_type": "markdown",
     "metadata": {},
     "source": [
      "My notebooks are full of proofs in this notation:\n",
      "\n",
      "<figure>\n",
      "<img src=\"files/M373k_notebook_pg_2-med.png\" />\n",
      "<figcaption>M373K notebook page 2</figcaption>\n",
      "</figure>\n",
      "\n",
      "I learned it when I took *Philosophy 313K: Logic, Sets and Functions* at U.T. Austin. The text, [Bonevac86], written just for the course, introduces it this way on p. 98:\n",
      "\n",
      "> The idea of an axiomatic system is old, dating at least from the time of Euclid. The Stoics, who were Greek philosophers of the third century B.C. were the first logicians to organize logic aximatically. In contrast, natural deduction systems are relatively new; Gerhard Gentzen, a German logician, and Stanislaw Jaskowski, a Polish student of Jan Lukasiewicz, independently proposed the first natural deduction systems in 1934. The system of htis book owes a great deal, as well, to innovations by the American logicians Willard van  Orman Quine, Frederic B. Fitch, Donald Kalish and Richard Montague.\n",
      "\n",
      "\n",
      "The history was lost on me at the time, but it took on practical relevance as I looked at metamath. I could read the proofs fairly well, but when I tried to write even a simple one, I was stuck. It wasn't until I discovered [a natural deduction based metamath system](http://wiki.planetmath.org/cgi-bin/wiki.pl/Natural_deduction_based_metamath_system) that I realized the conventional metamath proofs are written Hilbert-style."
     ]
    },
    {
     "cell_type": "heading",
     "level": 2,
     "metadata": {},
     "source": [
      "Rendering Math with MathJax"
     ]
    },
    {
     "cell_type": "markdown",
     "metadata": {},
     "source": [
      "Math and C.S. literature is traditionally written with $\\TeX$. I've used it only occasionally and [reluctantly](http://www.w3.org/2004/04/xhlt91/), but but MathJax seems to do a great job of integrating it into the web.\n",
      "\n",
      "The first definition on that page of number theory notes is \"a divides b\":\n",
      "\n",
      "<figure>\n",
      "<img src=\"files/defn_a_divides_b.png\" alt=\"a divides b iff ...\" /> \n",
      "<figcaption>Definition of \"a divides b\"</figcaption>\n",
      "</figure>\n",
      "\n",
      "Using MathJax, I can get a pretty good rendition:\n",
      "\n",
      "> $\\operatorname{Def^n}$ $ a | b$ \"a divides b\"\n",
      ">\n",
      "> Note: universe = $\\Bbb Z$\n",
      ">\n",
      "> $$ a|b \\iff \\exists k (b = ka)$$\n",
      "\n",
      "I looked all over for a way to render bi-directional inference rules, but I could only find MathJax support for one direction:\n",
      "\n",
      "> $$ \\frac{a|b}{\\exists k (b = ka)}$$\n",
      "\n",
      "Perhaps using this notation for \"equivalent by definition\" would be better than bi-directional implication in some ways, though it's not much better for visual pattern matching:\n",
      "\n",
      "> $$ a|b \\equiv \\exists k (b = ka)$$"
     ]
    },
    {
     "cell_type": "heading",
     "level": 2,
     "metadata": {},
     "source": [
      "Formal Proof and Fitch Diagrams"
     ]
    },
    {
     "cell_type": "markdown",
     "metadata": {},
     "source": [
      "The point isn't just to render the notes nicely but to capture them in a way I can exploit by machine.\n",
      "\n",
      "The first example in the Bonevac book is:\n",
      "\n",
      "<figure>\n",
      "<img src=\"files/bonevac86_p108_ex.jpg\" alt=\"Show p and q implies q and p\" /> \n",
      "<figcaption>p. 108 of [Bonevac86]</figcaption>\n",
      "</figure>\n",
      "\n",
      "There are a few online [fitch proof diagram](https://en.wikipedia.org/wiki/Fitch-style_calculus) tools. I played around a bit with [proofmood](http://www.proofmood.com/index_en.php):\n",
      "\n",
      "<figure>\n",
      "<img src=\"files/fitch-screenshot.png\" alt=\"Proofmood screenshot\" />\n",
      "<figcaption>screenshot of Proofmood verifying proof of P &amp; Q -> Q ^ P</figcaption>\n",
      "</figure>\n"
     ]
    },
    {
     "cell_type": "heading",
     "level": 2,
     "metadata": {},
     "source": [
      "Formal Logic in Python (FLiP)"
     ]
    },
    {
     "cell_type": "markdown",
     "metadata": {},
     "source": [
      "I'm pretty happy with the IPython notebook for immersive hypertext editing with integrated computation. I'd like to integrate it with the idris REPL, but meanwhile, a search for **python** and **natural deduction** turned up [FLiP](https://pypi.python.org/pypi/FLiP/).\n",
      "\n",
      "`import *` is usually not a good idea, but for interactive use, it makes sense:"
     ]
    },
    {
     "cell_type": "code",
     "collapsed": false,
     "input": [
      "from flip.logic.fol_session import *"
     ],
     "language": "python",
     "metadata": {},
     "outputs": [],
     "prompt_number": 1
    },
    {
     "cell_type": "markdown",
     "metadata": {},
     "source": [
      "Python syntax is used to enter formulas and proof steps. FLiP then generates a more traditional notation:"
     ]
    },
    {
     "cell_type": "code",
     "collapsed": false,
     "input": [
      "clear()\n",
      "checkp(And(p, q), assume)"
     ],
     "language": "python",
     "metadata": {},
     "outputs": [
      {
       "output_type": "stream",
       "stream": "stdout",
       "text": [
        "|p & q                    (0)  Assumption\n"
       ]
      }
     ],
     "prompt_number": 11
    },
    {
     "cell_type": "markdown",
     "metadata": {},
     "source": [
      "After the assumption, we can apply some elimination and introduction rules:"
     ]
    },
    {
     "cell_type": "code",
     "collapsed": false,
     "input": [
      "apropos(And)"
     ],
     "language": "python",
     "metadata": {},
     "outputs": [
      {
       "output_type": "stream",
       "stream": "stdout",
       "text": [
        "[('ai', ['m1', 'm2', 'And(m1,m2)']),\n",
        " ('aer', ['And(m1,m2)', 'm1']),\n",
        " ('ael', ['And(m1,m2)', 'm2'])]\n"
       ]
      }
     ],
     "prompt_number": 12
    },
    {
     "cell_type": "code",
     "collapsed": false,
     "input": [
      "rapply(ael, 0)\n",
      "rapply(aer, 0)\n",
      "rapply(ai, 1, 2)"
     ],
     "language": "python",
     "metadata": {},
     "outputs": [
      {
       "output_type": "stream",
       "stream": "stdout",
       "text": [
        "|q                        (1)  And-Elimination (Left) (0)\n",
        "|p                        (2)  And-Elimination (Right) (0)\n",
        "|q & p                    (3)  And-Introduction (1) (2)\n"
       ]
      }
     ],
     "prompt_number": 13
    },
    {
     "cell_type": "markdown",
     "metadata": {},
     "source": [
      "That much was pretty obvious, but to use subproofs, I had to read the documentation:"
     ]
    },
    {
     "cell_type": "code",
     "collapsed": false,
     "input": [
      "checkp(Impl(And(p, q), And(q, p)), impli, 0, 3)"
     ],
     "language": "python",
     "metadata": {},
     "outputs": [
      {
       "output_type": "stream",
       "stream": "stdout",
       "text": [
        "(p & q) -> (q & p)        (4)  Implication-Introduction (0) (3)\n"
       ]
      }
     ],
     "prompt_number": 5
    },
    {
     "cell_type": "markdown",
     "metadata": {},
     "source": [
      "The whole proof looks pretty much like the example from page 108:"
     ]
    },
    {
     "cell_type": "code",
     "collapsed": false,
     "input": [
      "pp()"
     ],
     "language": "python",
     "metadata": {},
     "outputs": [
      {
       "output_type": "stream",
       "stream": "stdout",
       "text": [
        "|p & q                    (0)  Assumption\n",
        "|q                        (1)  And-Elimination (Left) (0)\n",
        "|p                        (2)  And-Elimination (Right) (0)\n",
        "|q & p                    (3)  And-Introduction (1) (2)\n",
        "(p & q) -> (q & p)        (4)  Implication-Introduction (0) (3)\n"
       ]
      }
     ],
     "prompt_number": 6
    },
    {
     "cell_type": "heading",
     "level": 2,
     "metadata": {},
     "source": [
      "Quantification, Rules, and a hint of Type Theory"
     ]
    },
    {
     "cell_type": "markdown",
     "metadata": {},
     "source": [
      "The \"hello world\" example we used for [semantic web research](http://www.w3.org/2000/10/swap/) was [socrates.n3](http://www.w3.org/2000/10/swap/test/reason/socrates.n3):\n",
      "\n",
      "$$\n",
      "\\operatorname{Man}(\\operatorname{socrates}) \\\\\n",
      "\\forall x (\\operatorname{Man}(x) \\implies \\operatorname{Mortal}(x))\\\\\n",
      "\\therefore \\operatorname{Mortal}(socrates)\n",
      "$$\n",
      "\n",
      "Kluding the naming a bit, it looks like this in FLiP:"
     ]
    },
    {
     "cell_type": "code",
     "collapsed": false,
     "input": [
      "clear()\n",
      "Man = P\n",
      "Mortal = Q\n",
      "socrates = a\n",
      "\n",
      "checkp(Man(a), given)\n",
      "checkp(A(x, Impl(Man(x), Mortal(x))), given)\n",
      "rapply(Ae, 1, a)\n",
      "rapply(imple, 2, 0)"
     ],
     "language": "python",
     "metadata": {},
     "outputs": [
      {
       "output_type": "stream",
       "stream": "stdout",
       "text": [
        "P(a)                      (0)  Given\n",
        "Ax.(P(x) -> Q(x))         (1)  Given\n",
        "P(a) -> Q(a)              (2)  A-Elimination (1), with a\n",
        "Q(a)                      (3)  Implication-Elimination (Modus Ponens) (2) (0)\n"
       ]
      }
     ],
     "prompt_number": 27
    },
    {
     "cell_type": "markdown",
     "metadata": {},
     "source": [
      "Using idris and dependent types is another episode altogether, but to give a hint...\n",
      "\n",
      "We can state the theorem this way:\n",
      "\n",
      "    thm1 : {thing: Type} -> {Man, Mortal: thing -> Type}\n",
      "            -> ((x: thing) -> (Man x -> Mortal x))\n",
      "            -> (socrates: thing) -> (Man socrates)\n",
      "            -> (Mortal socrates)\n",
      "\n",
      "and the proof is really simple:\n",
      "\n",
      "    thm1 all_men_mortal socrates socrates_a_man =\n",
      "      all_men_mortal socrates socrates_a_man\n"
     ]
    },
    {
     "cell_type": "heading",
     "level": 2,
     "metadata": {},
     "source": [
      "Colophon"
     ]
    },
    {
     "cell_type": "markdown",
     "metadata": {},
     "source": [
      "Clues to remind me how I got `ipython notebook` running:\n",
      "\n",
      "    #!/bin/sh\n",
      "    > virtualenv ~/pyenv/pynb\n",
      "    > . ~/pyenv/pynb/bin/activate\n",
      "    (pynb)> pip install ipython\n",
      "    (pynb)> sudo apt-get install libzmq-dev\n",
      "    (pynb)> pip install pyzmq\n",
      "            ZMQ version detected: 2.1.11\n",
      "       Warning: Detected ZMQ version: 2.1.11, but pyzmq targets ZMQ 4.0.3.\n",
      "       Warning: libzmq features and fixes introduced after 2.1.11 will be unavailable.\n",
      "    (pynb)> pip install jinja2\n",
      "      Downloading Jinja2-2.7.1.tar.gz (377Kb): 377Kb downloaded\n",
      "    (pynb)> pip install tornado\n",
      "      Downloading tornado-3.1.1.tar.gz (374Kb): 374Kb downloaded\n",
      "    (pynb)> ipython notebook\n",
      "\n"
     ]
    },
    {
     "cell_type": "heading",
     "level": 2,
     "metadata": {},
     "source": [
      "References"
     ]
    },
    {
     "cell_type": "markdown",
     "metadata": {},
     "source": [
      "  * Bonevac, Daniel. 1986. *Proof: A Text for Philosophy 313K Logic, Sets and Functions*. Austin, Texas: Department of Philosophy, The University of Texas at Austin.\n",
      "  * Fernando P\u00e9rez, Brian E. Granger, *IPython: A System for Interactive Scientific Computing*, Computing in Science and Engineering, vol. 9, no. 3, pp. 21-29, May/June 2007, doi:10.1109/MCSE.2007.53. URL: http://ipython.org"
     ]
    }
   ],
   "metadata": {}
  }
 ]
}