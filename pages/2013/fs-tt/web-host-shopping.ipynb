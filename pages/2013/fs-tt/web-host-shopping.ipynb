{
 "metadata": {
  "name": ""
 },
 "nbformat": 3,
 "nbformat_minor": 0,
 "worksheets": [
  {
   "cells": [
    {
     "cell_type": "heading",
     "level": 1,
     "metadata": {},
     "source": [
      "Web Host Shopping"
     ]
    },
    {
     "cell_type": "markdown",
     "metadata": {},
     "source": [
      "<pre class=\"about yaml\">\n",
      "date: 2014-01-04\n",
      "tags: [office, publishing, installation, vm, devops]\n",
      "</pre>"
     ]
    },
    {
     "cell_type": "markdown",
     "metadata": {},
     "source": [
      "The client I develop [hh-office][] for is seeing poor performance, so I'm shopping for web hosting alternatives.\n",
      "\n",
      "  [hh-office]: https://bitbucket.org/DanC/hh-office"
     ]
    },
    {
     "cell_type": "markdown",
     "metadata": {},
     "source": [
      "It's an ordinary PHP/MySQL app with a few python bits and bobs. When I originally deployed it in last 2011, I knew:\n",
      "\n",
      "  1. Lots of people (including [Gerald back in 2007][GO07]) used dreamhost.\n",
      "  2. Lots of people complain about dreamhost.\n",
      "\n",
      "But it's not clear that the complaints about dreamhost indicate anything other\n",
      "than popularity. After all, as the [IndieWebCamp folks say][IW],\n",
      "\n",
      "> Picking [a web hosting service] is in some ways like picking a cell phone provider - criteria may include things like: cost, levels of service, reliability, customer support.\n",
      "\n",
      "... and we all complain about our cell phone providers.\n",
      "\n",
      " [GO07]: http://impressive.net/archives/fogo/20070109173322.GO5388@impressive.net\n",
      " [IW]: http://indiewebcamp.com/web_hosting"
     ]
    },
    {
     "cell_type": "markdown",
     "metadata": {},
     "source": [
      "The first performance remedy I tried was the \\$15/month [VPS hosting](http://www.dreamhost.com/servers/vps/) upgrade, but it made little difference. I didn't read the documentation carefully enough to notice that **the database is on a separate server**. I think I saw some database-related upgrade options, but in [drupal performance discussion](https://drupal.org/node/120736), dreamhost seems to be somewhat notorious for poor MySQL architecture and hence performance. So I went shopping for alternatives."
     ]
    },
    {
     "cell_type": "markdown",
     "metadata": {},
     "source": [
      "I tried cloud hosting with the [LAMP Stack by bitnami][1] on Amazon EC2, but one VM is more than enough for this app and I guess I should have known that scalable **cloud hosting isn't cost-effective if I'm not using the scalability**.\n",
      "\n",
      "  [1]: http://bitnami.com/stack/lamp"
     ]
    },
    {
     "cell_type": "markdown",
     "metadata": {},
     "source": [
      "So I returned to exploring the overcrowded shared hosting marketplace. justhost and site5 were nominated in the drupal discussion, as was arvixe. I looked to see if any of them had free trials, and I was reminded of [ownCloud hosts](http://owncloud.org/providers/) with free plans, one of which was arvixe. Based on that delightful sign-up experience and [good reviews on hostjury](http://www.hostjury.com/reviews/arvixe), I went ahead and bought a month's worth (\\$7) of shared hosting."
     ]
    },
    {
     "cell_type": "markdown",
     "metadata": {},
     "source": [
      "I had a little hiccough getting shell access, but live chat support took care of it fast enough that I didn't really lose stride.\n",
      "\n",
      "After [claims](http://www.arvixe.com/linux_web_hosting) that they \"provide the latest Python version,\" I was a little disappointed to see that this means they let you [build it from source](http://blog.arvixe.com/create-your-own-python-enviroment-locally-in-your-shared-hosting-account/). Oh well; I had to do that on dreamhost too; it seems to be par for the course and it takes just a few minutes.\n",
      "\n",
      "Bandwidth seemed OK, not that downloading on the server is relevant to my app:\n",
      "\n",
      "    [~]# wget http://python.org/ftp/python/2.7.6/Python-2.7.6.tgz\n",
      "    ... 14,725,931  2.76M/s   in 9.5s "
     ]
    },
    {
     "cell_type": "markdown",
     "metadata": {},
     "source": [
      "----\n",
      "\n",
      "## Fodder"
     ]
    },
    {
     "cell_type": "markdown",
     "metadata": {},
     "source": [
      "dreamhost docs show a lot of legacy (reminds me of W3C)"
     ]
    },
    {
     "cell_type": "markdown",
     "metadata": {},
     "source": [
      "services I use (or have used?)\n",
      "\n",
      " - Shared hosting:\n",
      "   - W3C server at MIT\n",
      "   - dreamhost\n",
      "   - arvixe\n",
      "\n",
      " - DNS mgmt:\n",
      "   - zonedit.com\n",
      "   - nearlyfreespeech.net\n",
      "   - amazon Route5\n",
      "\n",
      " - blogging SAS:\n",
      "   - wordpress\n",
      "   - blogger\n",
      "\n",
      " - domain registrar:\n",
      "   - gandi\n",
      "   - namecheap\n",
      "   - nearlyfreespeech.net\n",
      "\n",
      " - VPS:\n",
      "   - AWS EC2\n",
      "   - dreamhost\n"
     ]
    },
    {
     "cell_type": "markdown",
     "metadata": {},
     "source": [
      "tinytiny rss. it complained \"that folder is wrong and doesn't exist\" so I created it. then it (a similar page) complained that it exists."
     ]
    },
    {
     "cell_type": "markdown",
     "metadata": {},
     "source": [
      "hope to chat with http://www.meetup.com/kcphpug/"
     ]
    },
    {
     "cell_type": "markdown",
     "metadata": {},
     "source": [
      "hmmm mailing list hosting"
     ]
    },
    {
     "cell_type": "markdown",
     "metadata": {},
     "source": [
      "Dec 26: make docker container for hh-office?"
     ]
    },
    {
     "cell_type": "markdown",
     "metadata": {},
     "source": [
      "try hh-office oh Amazon Elastic Beanstalk?"
     ]
    }
   ],
   "metadata": {}
  }
 ]
}