{
 "metadata": {
  "name": ""
 },
 "nbformat": 3,
 "nbformat_minor": 0,
 "worksheets": [
  {
   "cells": [
    {
     "cell_type": "markdown",
     "metadata": {},
     "source": [
      "Mead purple notebook"
     ]
    },
    {
     "cell_type": "markdown",
     "metadata": {},
     "source": [
      "Dan Connolly  \n",
      "495-3497  \n",
      "M373K"
     ]
    },
    {
     "cell_type": "heading",
     "level": 2,
     "metadata": {},
     "source": [
      "Preface: Bidirectional Inference Rules"
     ]
    },
    {
     "cell_type": "code",
     "collapsed": false,
     "input": [
      "from flip.logic import nd\n",
      "\n",
      "\n",
      "def infer_bidir(name, abbr, p, q):\n",
      "    intro = abbr + 'I'\n",
      "    elim = abbr + 'E'\n",
      "    _rule_names = {\n",
      "               intro: name + ' (intro)',\n",
      "               elim: name + ' (elim)'\n",
      "               }\n",
      "    _rules = {\n",
      "              elim: [p, q],\n",
      "              intro: [q, p]\n",
      "              }\n",
      "    nd.add_rule_names(_rule_names)\n",
      "    nd.add_rules(_rules)\n",
      "    return intro, elim\n"
     ],
     "language": "python",
     "metadata": {},
     "outputs": [],
     "prompt_number": 1
    },
    {
     "cell_type": "heading",
     "level": 2,
     "metadata": {},
     "source": [
      "Preamble: Integers"
     ]
    },
    {
     "cell_type": "code",
     "collapsed": false,
     "input": [
      "from flip.logic.formula import InfixRelation, Variable, Function, TermPlaceholder\n",
      "\n",
      "z = Variable('z')\n",
      "\n",
      "# TODO: infix functions?\n",
      "\n",
      "class plus(Function):\n",
      "    pass\n",
      "\n",
      "class times(Function):\n",
      "    pass\n",
      "\n",
      "class gt(InfixRelation):\n",
      "    symbol = '>'\n"
     ],
     "language": "python",
     "metadata": {},
     "outputs": [],
     "prompt_number": 2
    },
    {
     "cell_type": "heading",
     "level": 2,
     "metadata": {},
     "source": [
      "Definition of $a | b$"
     ]
    },
    {
     "cell_type": "code",
     "collapsed": false,
     "input": [
      "from flip.logic.fol_session import *\n",
      "\n",
      "class divides(InfixRelation):\n",
      "  \"\"\"\n",
      "  divides(a,b) means a | b\n",
      "  \"\"\"\n",
      "  def __init__(self, *args):\n",
      "    InfixRelation.__init__(self, *args)\n",
      "    self.symbol = '|'\n",
      "\n",
      "\n",
      "a, b, d = map(TermPlaceholder, 'a b d'.split())\n",
      "k = Variable('k')\n",
      "\n",
      "divI, divE = infer_bidir('Defn divides', 'div',\n",
      "                         divides(a, b), E(k, Equal(b, times(k, a))))"
     ],
     "language": "python",
     "metadata": {},
     "outputs": [],
     "prompt_number": 3
    },
    {
     "cell_type": "heading",
     "level": 2,
     "metadata": {},
     "source": [
      "Definition of $(a, b)$"
     ]
    },
    {
     "cell_type": "code",
     "collapsed": false,
     "input": [
      "class gcf(Function):\n",
      "    pass\n",
      "\n",
      "\n",
      "gcfI, gcfE = infer_bidir('Defn GCF', 'gcf',\n",
      "                         Equal(d, gcf(a, b)),\n",
      "                         And(gt(d, z),\n",
      "                             And(divides(d, a),\n",
      "                                 And(divides(d, b),\n",
      "                                     A(c, Impl(And(divides(c, a),\n",
      "                                                   divides(c, b)),\n",
      "                                               divides(c, d)))))))\n",
      "                         "
     ],
     "language": "python",
     "metadata": {},
     "outputs": [],
     "prompt_number": 4
    },
    {
     "cell_type": "heading",
     "level": 2,
     "metadata": {},
     "source": [
      "Thm (Euclid)"
     ]
    },
    {
     "cell_type": "code",
     "collapsed": false,
     "input": [
      "def nz(x):\n",
      "    return Not(Equal(x, z))\n",
      "\n",
      "a, b, d, m, n = map(Variable, 'a b d m n'.split())\n",
      "\n",
      "thm_euclid = A(a, A(b, Impl(Or(nz(a), nz(b)),\n",
      "                            E(m, E(n, Equal(plus(times(m, a), times(n, b)),\n",
      "                                            gcf(a, b)))))))\n",
      "checkp(thm_euclid, given)"
     ],
     "language": "python",
     "metadata": {},
     "outputs": [
      {
       "output_type": "stream",
       "stream": "stdout",
       "text": [
        "Aa.Ab.((~(a = z) v ~(b = z)) -> Em.En.(plus(times(m,a),times(n,b)) = gcf(a,b)))  (0)  Given\n"
       ]
      }
     ],
     "prompt_number": 5
    },
    {
     "cell_type": "code",
     "collapsed": false,
     "input": [
      "clear()\n",
      "checkp(Or(nz(a), nz(b)), given)"
     ],
     "language": "python",
     "metadata": {},
     "outputs": [
      {
       "output_type": "stream",
       "stream": "stdout",
       "text": [
        "~(a = z) v ~(b = z)       (0)  Given\n"
       ]
      }
     ],
     "prompt_number": 6
    },
    {
     "cell_type": "heading",
     "level": 2,
     "metadata": {},
     "source": [
      "TODO: Formatting with MathJax"
     ]
    },
    {
     "cell_type": "code",
     "collapsed": false,
     "input": [
      "from IPython.core.formatters import HTMLFormatter\n",
      "rich = HTMLFormatter()\n",
      "\n",
      "class TODO:\n",
      "  def _repr_html_(self):\n",
      "    return '<span class=\"math\">%s | %s</span>' % tuple([rich(self.args[ix]) for ix in [0, 1]])"
     ],
     "language": "python",
     "metadata": {},
     "outputs": [],
     "prompt_number": 7
    },
    {
     "cell_type": "heading",
     "level": 2,
     "metadata": {},
     "source": [
      "Appendix: FLiP Installation"
     ]
    },
    {
     "cell_type": "code",
     "collapsed": false,
     "input": [
      "!pip install flip"
     ],
     "language": "python",
     "metadata": {},
     "outputs": [
      {
       "output_type": "stream",
       "stream": "stdout",
       "text": [
        "Requirement already satisfied (use --upgrade to upgrade): flip in /usr/local/lib/python2.7/dist-packages\r\n",
        "Cleaning up...\r\n"
       ]
      }
     ],
     "prompt_number": 8
    },
    {
     "cell_type": "code",
     "collapsed": false,
     "input": [],
     "language": "python",
     "metadata": {},
     "outputs": [],
     "prompt_number": 8
    }
   ],
   "metadata": {}
  }
 ]
}