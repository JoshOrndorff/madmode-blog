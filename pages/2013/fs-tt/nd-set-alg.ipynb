{
 "metadata": {
  "name": ""
 },
 "nbformat": 3,
 "nbformat_minor": 0,
 "worksheets": [
  {
   "cells": [
    {
     "cell_type": "heading",
     "level": 1,
     "metadata": {},
     "source": [
      "M373K Notes"
     ]
    },
    {
     "cell_type": "markdown",
     "metadata": {},
     "source": [
      "<pre class=\"about yaml\">\n",
      "date: 2014-01-06\n",
      "tags: [logic, research]\n",
      "</pre>"
     ]
    },
    {
     "cell_type": "markdown",
     "metadata": {},
     "source": [
      "Mead purple notebook"
     ]
    },
    {
     "cell_type": "markdown",
     "metadata": {},
     "source": [
      "Dan Connolly  \n",
      "495-3497  \n",
      "M373K"
     ]
    },
    {
     "cell_type": "heading",
     "level": 2,
     "metadata": {},
     "source": [
      "Preface: Axioms"
     ]
    },
    {
     "cell_type": "code",
     "collapsed": false,
     "input": [
      "def axiom(name, abbr, fmla):\n",
      "    _rule_names = {abbr: name}\n",
      "    _rules = {abbr: [fmla]}\n",
      "    nd.add_rule_names(_rule_names)\n",
      "    nd.add_rules(_rules)\n",
      "    return abbr"
     ],
     "language": "python",
     "metadata": {},
     "outputs": [],
     "prompt_number": 1
    },
    {
     "cell_type": "heading",
     "level": 2,
     "metadata": {},
     "source": [
      "Preface: Bidirectional Inference Rules"
     ]
    },
    {
     "cell_type": "code",
     "collapsed": false,
     "input": [
      "from flip.logic import nd\n",
      "\n",
      "\n",
      "def infer_bidir(name, abbr, p, q):\n",
      "    intro = abbr + 'I'\n",
      "    elim = abbr + 'E'\n",
      "    _rule_names = {\n",
      "               intro: name + ' (intro)',\n",
      "               elim: name + ' (elim)'\n",
      "               }\n",
      "    _rules = {\n",
      "              elim: [p, q],\n",
      "              intro: [q, p]\n",
      "              }\n",
      "    nd.add_rule_names(_rule_names)\n",
      "    nd.add_rules(_rules)\n",
      "    return intro, elim\n"
     ],
     "language": "python",
     "metadata": {},
     "outputs": [],
     "prompt_number": 2
    },
    {
     "cell_type": "heading",
     "level": 2,
     "metadata": {},
     "source": [
      "Preface: Iff"
     ]
    },
    {
     "cell_type": "code",
     "collapsed": false,
     "input": [
      "from flip.logic.formula import (InfixRelation, InfixLogical,\n",
      "                                Variable, Function, Infix, TermPlaceholder)\n",
      "from flip.logic.prop_common import And, Impl, m1, m2\n",
      "\n",
      "class Iff(InfixLogical):\n",
      "  \"\"\"\n",
      "  Impl(a,b) means a <=>\n",
      "  \"\"\"\n",
      "  def __init__(self, *args):\n",
      "    InfixLogical.__init__(self, *args)\n",
      "    self.symbol = '<=>'\n",
      "\n",
      "\n",
      "iffI, iffE = infer_bidir('Iff', 'iff',\n",
      "                         Iff(m1, m2),\n",
      "                         And(Impl(m1, m2), Impl(m2, m1)))"
     ],
     "language": "python",
     "metadata": {},
     "outputs": [],
     "prompt_number": 3
    },
    {
     "cell_type": "heading",
     "level": 2,
     "metadata": {},
     "source": [
      "Preamble: Sets"
     ]
    },
    {
     "cell_type": "code",
     "collapsed": false,
     "input": [
      "from flip.logic.prop_common import Not\n",
      "from flip.logic.fol import Equal, A, E, t1, t2, v1, v2, P1\n",
      "\n",
      "class elt(InfixRelation):\n",
      "    def __init__(self, *args):\n",
      "        InfixRelation.__init__(self, *args)\n",
      "        self.symbol = '.in.'  # borrow notation from R, somewhat arbitrarily\n",
      "\n",
      "\n",
      "phi = Variable('phi')\n",
      "\n",
      "emptySet = axiom('Empty Set', 'emptySet', Not(elt(t1, phi)))\n",
      "# alternatively: E(x, A(y, Not(elt(y, x))))\n",
      "\n",
      "ext = infer_bidir('Extensionality', 'ext',\n",
      "                  Equal(t1, t2),  # need a side-condition that t1 and t2 are sets?\n",
      "                  A(v1, Iff(elt(v1, t1), elt(v1, t2))))\n",
      "\n",
      "abst = axiom('Abstraction', 'abst', E(v1, A(v2, Iff(elt(v2, v1), P1(v2)))))"
     ],
     "language": "python",
     "metadata": {},
     "outputs": [],
     "prompt_number": 4
    },
    {
     "cell_type": "heading",
     "level": 2,
     "metadata": {},
     "source": [
      "Preamble: Integers"
     ]
    },
    {
     "cell_type": "code",
     "collapsed": false,
     "input": [
      "z = Variable('z')\n",
      "\n",
      "# TODO: infix functions?\n",
      "\n",
      "class plus(Function, Infix):\n",
      "    def __init__(self, *args):\n",
      "        Function.__init__(self, *args)\n",
      "        Infix.__init__(self, *args)\n",
      "        self.symbol = '+'\n",
      "\n",
      "class times(Function, Infix):\n",
      "    def __init__(self, *args):\n",
      "        Function.__init__(self, *args)\n",
      "        Infix.__init__(self, *args)\n",
      "        self.symbol = '*'\n",
      "\n",
      "\n",
      "class gt(InfixRelation):\n",
      "    symbol = '>'\n"
     ],
     "language": "python",
     "metadata": {},
     "outputs": [],
     "prompt_number": 5
    },
    {
     "cell_type": "heading",
     "level": 2,
     "metadata": {},
     "source": [
      "Definition of $a | b$"
     ]
    },
    {
     "cell_type": "code",
     "collapsed": false,
     "input": [
      "from flip.logic.fol_session import *\n",
      "\n",
      "class divides(InfixRelation):\n",
      "  \"\"\"\n",
      "  divides(a,b) means a | b\n",
      "  \"\"\"\n",
      "  def __init__(self, *args):\n",
      "    InfixRelation.__init__(self, *args)\n",
      "    self.symbol = '|'\n",
      "\n",
      "\n",
      "a, b, d = map(TermPlaceholder, 'a b d'.split())\n",
      "k = Variable('k')\n",
      "\n",
      "divI, divE = infer_bidir('Defn divides', 'div',\n",
      "                         divides(a, b), E(k, Equal(b, times(k, a))))"
     ],
     "language": "python",
     "metadata": {},
     "outputs": [],
     "prompt_number": 6
    },
    {
     "cell_type": "heading",
     "level": 2,
     "metadata": {},
     "source": [
      "Definition of $(a, b)$"
     ]
    },
    {
     "cell_type": "code",
     "collapsed": false,
     "input": [
      "class gcf(Function):\n",
      "    pass\n",
      "\n",
      "\n",
      "def and_n(*args):\n",
      "    return (args[0] if len(args) == 1 else\n",
      "            And(args[0], and_n(*args[1:])))\n",
      "\n",
      "gcfI, gcfE = infer_bidir('Defn GCF', 'gcf',\n",
      "                         Equal(d, gcf(a, b)),\n",
      "                         and_n(gt(d, z),\n",
      "                               divides(d, a),\n",
      "                               divides(d, b),\n",
      "                               A(c, Impl(And(divides(c, a),\n",
      "                                             divides(c, b)),\n",
      "                                         divides(c, d)))))\n",
      "                         "
     ],
     "language": "python",
     "metadata": {},
     "outputs": [],
     "prompt_number": 7
    },
    {
     "cell_type": "heading",
     "level": 2,
     "metadata": {},
     "source": [
      "Thm (Euclid)"
     ]
    },
    {
     "cell_type": "code",
     "collapsed": false,
     "input": [
      "def nz(x):\n",
      "    return Not(Equal(x, z))\n",
      "\n",
      "a, b, d, m, n = map(Variable, 'a b d m n'.split())\n",
      "s, s1 = map(Variable, 's s1'.split())\n",
      "\n",
      "thm_euclid = A(a, A(b, Impl(Or(nz(a), nz(b)),\n",
      "                            E(m, E(n, Equal(plus(times(m, a), times(n, b)),\n",
      "                                            gcf(a, b)))))))\n",
      "checkp(thm_euclid, given)"
     ],
     "language": "python",
     "metadata": {},
     "outputs": [
      {
       "output_type": "stream",
       "stream": "stdout",
       "text": [
        "Aa.Ab.((~(a = z) v ~(b = z)) -> Em.En.(((m * a) + (n * b)) = gcf(a,b)))  (0)  Given\n"
       ]
      }
     ],
     "prompt_number": 8
    },
    {
     "cell_type": "code",
     "collapsed": false,
     "input": [
      "clear()\n",
      "checkp(Or(nz(a), nz(b)), given)"
     ],
     "language": "python",
     "metadata": {},
     "outputs": [
      {
       "output_type": "stream",
       "stream": "stdout",
       "text": [
        "~(a = z) v ~(b = z)       (0)  Given\n"
       ]
      }
     ],
     "prompt_number": 9
    },
    {
     "cell_type": "code",
     "collapsed": false,
     "input": [
      "checkp(E(s, A(x, Iff(elt(x, s),\n",
      "              E(m, E(n, Equal(x, plus(times(m, a), times(n, b)))))))), abst)"
     ],
     "language": "python",
     "metadata": {},
     "outputs": [
      {
       "output_type": "stream",
       "stream": "stdout",
       "text": [
        "Es.Ax.((x .in. s) <=> Em.En.(x = ((m * a) + (n * b))))  (1)  Abstraction\n"
       ]
      }
     ],
     "prompt_number": 10
    },
    {
     "cell_type": "heading",
     "level": 2,
     "metadata": {},
     "source": [
      "TODO: Formatting with MathJax"
     ]
    },
    {
     "cell_type": "code",
     "collapsed": false,
     "input": [
      "from IPython.core.formatters import HTMLFormatter\n",
      "rich = HTMLFormatter()\n",
      "\n",
      "class TODO:\n",
      "  def _repr_html_(self):\n",
      "    return '<span class=\"math\">%s | %s</span>' % tuple([rich(self.args[ix]) for ix in [0, 1]])"
     ],
     "language": "python",
     "metadata": {},
     "outputs": [],
     "prompt_number": 11
    },
    {
     "cell_type": "heading",
     "level": 2,
     "metadata": {},
     "source": [
      "Appendix: FLiP Installation"
     ]
    },
    {
     "cell_type": "code",
     "collapsed": false,
     "input": [
      "!pip install flip"
     ],
     "language": "python",
     "metadata": {},
     "outputs": [
      {
       "output_type": "stream",
       "stream": "stdout",
       "text": [
        "Requirement already satisfied (use --upgrade to upgrade): flip in /usr/local/lib/python2.7/dist-packages\r\n",
        "Cleaning up...\r\n"
       ]
      }
     ],
     "prompt_number": 12
    }
   ],
   "metadata": {}
  }
 ]
}