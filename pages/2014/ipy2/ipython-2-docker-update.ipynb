{
 "metadata": {
  "name": "",
  "signature": "sha256:151a292f904400cea3905cb41725413db89f581dfb6dda5eb80b6cd638d7ec84"
 },
 "nbformat": 3,
 "nbformat_minor": 0,
 "worksheets": [
  {
   "cells": [
    {
     "cell_type": "heading",
     "level": 1,
     "metadata": {},
     "source": [
      "IPython2 is more Web-Like (and the cost of upgrading)"
     ]
    },
    {
     "cell_type": "markdown",
     "metadata": {},
     "source": [
      "silly me... after packaging ipython to insulate myself from dependencies, I checked to see if I was current and found ipython 2.0 is out with new features...\n",
      "\n",
      "@@ref [earlier episode](../../2013/fs-tt/nbpub.ipynb)"
     ]
    },
    {
     "cell_type": "markdown",
     "metadata": {},
     "source": [
      "webhooks in trusted build system - nice!\n",
      "or reference: https://index.docker.io/u/dckc/ipython-docker/\n",
      "\n",
      "ironically, my Dockerfile doesn't work now...\n",
      "\n",
      "```\n",
      " $ sudo docker run -i -t dckc/ipython-docker ipython\n",
      " 2014/04/15 22:37:41 exec: \"ipython\": executable file not found in $PATH\n",
      "```"
     ]
    },
    {
     "cell_type": "heading",
     "level": 1,
     "metadata": {},
     "source": [
      "Apt and Term/ReadLine.pm"
     ]
    },
    {
     "cell_type": "markdown",
     "metadata": {},
     "source": [
      "the only way I can see to diagnose is to go through the steps of the dockerfile manually\n",
      "\n",
      "```\n",
      "     Warning: Detected ZMQ version: 2.1.11, but pyzmq targets ZMQ 4.0.4.\n",
      "```\n",
      "\n",
      "doesn't look fatal.\n",
      "\n",
      "\n",
      "does `docker build` keep a log of the output?\n",
      "\n",
      "`<tcard>` DanC_: to diagnose the problem, I would run a new container from the parent image and step through the steps of the Dockerfile manually\n",
      "`<DanC_>` step through... yes, I just did that. it built fine.\n",
      "\n",
      "* DanC_ finds a build log...\n",
      "\n",
      "looks like this failed: `RUN apt-get install -y python python-pip`\n",
      "\n",
      "```\n",
      "debconf: (Can't locate Term/ReadLine.pm in  ...\n",
      "\n",
      "python-dev : Depends: python2.7-dev (>= 2.7.3) but it is not going to be installed\n",
      "```"
     ]
    },
    {
     "cell_type": "heading",
     "level": 1,
     "metadata": {},
     "source": [
      "Crosby's Python"
     ]
    },
    {
     "cell_type": "markdown",
     "metadata": {},
     "source": [
      "looks like `apt-get upgrade` might fix it. http://askubuntu.com/questions/344962/how-do-i-correct-this-error-with-debootstrap-in-ubuntu-server-12-04-3\n",
      "\n",
      "my dockerfile does apt-get update but not apt-get upgrade, which leaves things in a bit  of a goofy state\n",
      "\n",
      "`<tcard>` DanC_: it is generally recommended to not upgrade, as parent images are upgraded by rebuilding\n",
      "`<DanC_>` hm\n",
      " I've seen upgrade in lots of Dockerfiles; they're mostly wrong?\n",
      "`<tcard>` http://crosbymichael.com/dockerfile-best-practices-take-2.html\n",
      "\n",
      "* DanC_ tries FROM crosbymichael/python ...\n",
      "`<DanC_>` $ sudo docker run -i -t  crosbymichael/python /bin/bash\n",
      " andrewvos andrewm659\n",
      " ^ andrewm659, that works for me\n",
      "`<crosbymichael>` of corse it works, my stuff always works ;)\n",
      "`<bkc_>` crosby: famous last words ;)\n",
      "`<crosbymichael>` lol\n",
      "`<tcard>` DanC_: btw, I remember that it used to be recommended practice to install pip via `apt-get install python python-dev python-setuptools; easy_install pip` and not use the python-pip package, but I am not sure if that is still current\n",
      "`<DanC_>`  crosbymichael/python seems to include pip\n",
      "\n",
      "`<DanC_>` hm\n",
      " E: Failed to fetch http://http.debian.net/debian/pool/main/z/zeromq/libzmq1_2.2.0+dfsg-5_amd64.deb  404  Not Found [IP: 46.229.166.133 80]\n",
      " E: Unable to fetch some archives, maybe run apt-get update or try with --fix-missing?\n",
      "`<crosbymichael>` ya, just run your apt-get update first\n",
      "\n",
      "`<DanC_>` hmm...\n",
      " Successfully built 987cc452e3cb\n",
      " "
     ]
    },
    {
     "cell_type": "heading",
     "level": 1,
     "metadata": {},
     "source": [
      "Docker Mental Model"
     ]
    },
    {
     "cell_type": "markdown",
     "metadata": {},
     "source": [
      " \n",
      " but that's not what `sudo docker images` shows.\n",
      " oh. phpht. I used the wrong tag when I built it.\n",
      " now I have two dckc/ipython-notebook , both tagged latest\n",
      " whimper\n",
      " my mental model is evidently incomplete\n",
      " shouldn't building a new one replace the old one?\n",
      " ah. the old one is running\n",
      " $ sudo docker rmi df6dc7863abf\n",
      " Error: Conflict, cannot delete df6dc7863abf because the container 7f894ff3caaa is using it\n",
      " '\n",
      " but `sudo docker ps` shows nothing\n",
      " whimper\n",
      "`<tcard>` DanC_: `sudo docker ps -a` ?\n",
      "`<DanC_>` pages of output!\n",
      " wtf?\n",
      "`<tcard>` DanC_: by default `docker ps` only shows running containers, not stopped ones\n",
      "`<DanC_>` is there a quick way to get rid of all of those containers I didn't know existed?\n",
      "`<tcard>` DanC_: an easy way to delete all containers is `docker rm $(docker ps -a -q)`\n",
      "`<DanC_>` nice!\n",
      "`<Frank81>` https://coderwall.com/p/ag1agw\n",
      " read that too\n",
      " ist for updating runnin containers\n",
      " that you cant get ride of else when you wanna update em\n",
      "\n",
      "2014-04-16 04:19:26.270 [NotebookApp] The IPython Notebook is running at: http://0.0.0.0:8888/\n",
      " yay!\n",
      "\n",
      "* DanC_ wonders if there are some diagrams in the docs that would help with a mental model\n",
      "\n",
      "speaking of docs... why are there no links from the index back to the rest of docker?\n",
      "\n",
      "does the doc system grok graphviz? If so, I could perhaps help with some diagrams."
     ]
    },
    {
     "cell_type": "heading",
     "level": 2,
     "metadata": {},
     "source": [
      "GraphViz Diagrams"
     ]
    },
    {
     "cell_type": "markdown",
     "metadata": {},
     "source": [
      "Install graphviz..."
     ]
    },
    {
     "cell_type": "code",
     "collapsed": false,
     "input": [
      "!apt-get -y install graphviz"
     ],
     "language": "python",
     "metadata": {},
     "outputs": [
      {
       "output_type": "stream",
       "stream": "stdout",
       "text": [
        "\r",
        "Reading package lists... 0%\r"
       ]
      },
      {
       "output_type": "stream",
       "stream": "stdout",
       "text": [
        "\r",
        "Reading package lists... 0%\r",
        "\r",
        "Reading package lists... 1%\r"
       ]
      },
      {
       "output_type": "stream",
       "stream": "stdout",
       "text": [
        "\r",
        "Reading package lists... 95%\r"
       ]
      },
      {
       "output_type": "stream",
       "stream": "stdout",
       "text": [
        "\r",
        "Reading package lists... 99%\r",
        "\r",
        "Reading package lists... 99%\r",
        "\r",
        "Reading package lists... 99%\r",
        "\r",
        "Reading package lists... 99%\r",
        "\r",
        "Reading package lists... 99%\r",
        "\r",
        "Reading package lists... 99%\r",
        "\r",
        "Reading package lists... Done\r",
        "\r\n"
       ]
      },
      {
       "output_type": "stream",
       "stream": "stdout",
       "text": [
        "\r",
        "Building dependency tree... 0%\r",
        "\r",
        "Building dependency tree... 0%\r",
        "\r",
        "Building dependency tree... 50%\r",
        "\r",
        "Building dependency tree... 50%\r",
        "\r",
        "Building dependency tree... 53%\r"
       ]
      },
      {
       "output_type": "stream",
       "stream": "stdout",
       "text": [
        "\r",
        "Building dependency tree       \r",
        "\r\n",
        "\r",
        "Reading state information... 0%\r",
        "\r",
        "Reading state information... 1%\r",
        "\r",
        "Reading state information... Done\r",
        "\r\n"
       ]
      },
      {
       "output_type": "stream",
       "stream": "stdout",
       "text": [
        "The following extra packages will be installed:\r\n",
        "  fontconfig fontconfig-config fonts-dejavu-core fonts-liberation libcairo2\r\n",
        "  libcdt4 libcgraph5 libdatrie1 libdrm-intel1 libdrm-nouveau2 libdrm-radeon1\r\n",
        "  libdrm2 libegl1-mesa libegl1-mesa-drivers libelf1 libfontconfig1\r\n",
        "  libfreetype6 libgbm1 libgd3 libgl1-mesa-dri libgl1-mesa-glx libglapi-mesa\r\n",
        "  libglib2.0-0 libglib2.0-data libgraph4 libgraphite2-3 libgvc5 libgvpr1\r\n",
        "  libharfbuzz0b libice6 libjbig0 libjpeg8 libllvm3.4 libltdl7 libopenvg1-mesa\r\n",
        "  libpango-1.0-0 libpangocairo-1.0-0 libpangoft2-1.0-0 libpathplan4\r\n",
        "  libpciaccess0 libpixman-1-0 libpng12-0 libsm6 libthai-data libthai0 libtiff5\r\n",
        "  libtxc-dxtn-s2tc0 libudev1 libvpx1 libwayland-client0 libwayland-egl1-mesa\r\n",
        "  libwayland-server0 libx11-xcb1 libxaw7 libxcb-dri2-0 libxcb-dri3-0\r\n",
        "  libxcb-glx0 libxcb-present0 libxcb-render0 libxcb-shape0 libxcb-shm0\r\n",
        "  libxcb-sync1 libxcb-xfixes0 libxdamage1 libxdot4 libxfixes3 libxmu6 libxpm4\r\n",
        "  libxrender1 libxshmfence1 libxt6 libxxf86vm1 shared-mime-info ttf-liberation\r\n",
        "  ucf x11-common\r\n",
        "Suggested packages:\r\n",
        "  gsfonts graphviz-doc libgd-tools libglide3 ttf-baekmuk ttf-arphic-gbsn00lp\r\n",
        "  ttf-arphic-bsmi00lp ttf-arphic-gkai00mp ttf-arphic-bkai00mp pciutils\r\n",
        "The following NEW packages will be installed:\r\n",
        "  fontconfig fontconfig-config fonts-dejavu-core fonts-liberation graphviz\r\n",
        "  libcairo2 libcdt4 libcgraph5 libdatrie1 libdrm-intel1 libdrm-nouveau2\r\n",
        "  libdrm-radeon1 libdrm2 libegl1-mesa libegl1-mesa-drivers libelf1\r\n",
        "  libfontconfig1 libfreetype6 libgbm1 libgd3 libgl1-mesa-dri libgl1-mesa-glx\r\n",
        "  libglapi-mesa libglib2.0-0 libglib2.0-data libgraph4 libgraphite2-3 libgvc5\r\n",
        "  libgvpr1 libharfbuzz0b libice6 libjbig0 libjpeg8 libllvm3.4 libltdl7\r\n",
        "  libopenvg1-mesa libpango-1.0-0 libpangocairo-1.0-0 libpangoft2-1.0-0\r\n",
        "  libpathplan4 libpciaccess0 libpixman-1-0 libpng12-0 libsm6 libthai-data\r\n",
        "  libthai0 libtiff5 libtxc-dxtn-s2tc0 libudev1 libvpx1 libwayland-client0\r\n",
        "  libwayland-egl1-mesa libwayland-server0 libx11-xcb1 libxaw7 libxcb-dri2-0\r\n",
        "  libxcb-dri3-0 libxcb-glx0 libxcb-present0 libxcb-render0 libxcb-shape0\r\n",
        "  libxcb-shm0 libxcb-sync1 libxcb-xfixes0 libxdamage1 libxdot4 libxfixes3\r\n",
        "  libxmu6 libxpm4 libxrender1 libxshmfence1 libxt6 libxxf86vm1\r\n",
        "  shared-mime-info ttf-liberation ucf x11-common\r\n",
        "0 upgraded, 77 newly installed, 0 to remove and 73 not upgraded.\r\n"
       ]
      },
      {
       "output_type": "stream",
       "stream": "stdout",
       "text": [
        "Need to get 31.9 MB of archives.\r\n",
        "After this operation, 137 MB of additional disk space will be used.\r\n"
       ]
      },
      {
       "output_type": "stream",
       "stream": "stdout",
       "text": [
        "\r",
        "\r",
        "0% [Working]"
       ]
      },
      {
       "output_type": "stream",
       "stream": "stdout",
       "text": [
        "\r",
        "0% [Working]\r",
        "            \r",
        "0% [Waiting for headers]"
       ]
      },
      {
       "output_type": "stream",
       "stream": "stdout",
       "text": [
        "\r",
        "                        \r",
        "0% [Connecting to mirror.anl.gov] [Waiting for headers]"
       ]
      },
      {
       "output_type": "stream",
       "stream": "stdout",
       "text": [
        "\r",
        "                                                       \r",
        "Get:1 http://http.debian.net/debian/ jessie/main libudev1 amd64 204-8 [43.9 kB]\r\n",
        "\r",
        "0% [1 libudev1 4102 B/43.9 kB 9%] [Waiting for headers]\r",
        "                                                       \r",
        "0% [1 libudev1 4102 B/43.9 kB 9%]"
       ]
      },
      {
       "output_type": "stream",
       "stream": "stdout",
       "text": [
        "\r",
        "                                 \r",
        "0% [Waiting for headers]\r",
        "0% [Waiting for headers]"
       ]
      },
      {
       "output_type": "stream",
       "stream": "stdout",
       "text": [
        "\r",
        "                        \r",
        "Get:2 http://http.debian.net/debian/ jessie/main libdrm2 amd64 2.4.52-1 [29.2 kB]\r\n",
        "\r",
        "                        \r",
        "0% [2 libdrm2 5550 B/29.2 kB 19%] [Waiting for headers]"
       ]
      },
      {
       "output_type": "stream",
       "stream": "stdout",
       "text": [
        "\r",
        "                                                       \r",
        "0% [Waiting for headers]"
       ]
      },
      {
       "output_type": "stream",
       "stream": "stdout",
       "text": [
        "\r",
        "                        \r",
        "Get:3 http://http.debian.net/debian/ jessie/main libglapi-mesa amd64 10.1.0-5 [50.8 kB]\r\n",
        "\r",
        "                        \r",
        "0% [3 libglapi-mesa 11.3 kB/50.8 kB 22%] [Waiting for headers]\r",
        "                                                              \r",
        "0% [3 libglapi-mesa 20.0 kB/50.8 kB 39%]"
       ]
      },
      {
       "output_type": "stream",
       "stream": "stdout",
       "text": [
        "\r",
        "                                        \r",
        "0% [Waiting for headers]"
       ]
      },
      {
       "output_type": "stream",
       "stream": "stdout",
       "text": [
        "\r",
        "0% [Waiting for headers]\r",
        "                        \r",
        "Get:4 http://http.debian.net/debian/ jessie/main libllvm3.4 amd64 1:3.4-2 [6527 kB]\r\n",
        "\r",
        "                        \r",
        "0% [4 libllvm3.4 0 B/6527 kB 0%] [Waiting for headers]"
       ]
      },
      {
       "output_type": "stream",
       "stream": "stdout",
       "text": [
        "\r",
        "                                                      \r",
        "1% [4 libllvm3.4 92.4 kB/6527 kB 1%]"
       ]
      },
      {
       "output_type": "stream",
       "stream": "stdout",
       "text": [
        "\r",
        "                                    \r",
        "1% [4 libllvm3.4 204 kB/6527 kB 3%]"
       ]
      },
      {
       "output_type": "stream",
       "stream": "stdout",
       "text": [
        "\r",
        "1% [4 libllvm3.4 289 kB/6527 kB 4%]"
       ]
      },
      {
       "output_type": "stream",
       "stream": "stdout",
       "text": [
        "\r",
        "2% [4 libllvm3.4 379 kB/6527 kB 6%]"
       ]
      },
      {
       "output_type": "stream",
       "stream": "stdout",
       "text": [
        "\r",
        "2% [4 libllvm3.4 491 kB/6527 kB 8%]"
       ]
      },
      {
       "output_type": "stream",
       "stream": "stdout",
       "text": [
        "\r",
        "2% [4 libllvm3.4 585 kB/6527 kB 9%]"
       ]
      },
      {
       "output_type": "stream",
       "stream": "stdout",
       "text": [
        "\r",
        "                                   \r",
        "3% [4 libllvm3.4 711 kB/6527 kB 11%]"
       ]
      },
      {
       "output_type": "stream",
       "stream": "stdout",
       "text": [
        "\r",
        "3% [4 libllvm3.4 819 kB/6527 kB 13%]"
       ]
      },
      {
       "output_type": "stream",
       "stream": "stdout",
       "text": [
        "\r",
        "3% [4 libllvm3.4 940 kB/6527 kB 14%]"
       ]
      },
      {
       "output_type": "stream",
       "stream": "stdout",
       "text": [
        "\r",
        "                                    \r",
        "4% [4 libllvm3.4 1034 kB/6527 kB 16%]"
       ]
      },
      {
       "output_type": "stream",
       "stream": "stdout",
       "text": [
        "\r",
        "4% [4 libllvm3.4 1148 kB/6527 kB 18%]"
       ]
      },
      {
       "output_type": "stream",
       "stream": "stdout",
       "text": [
        "\r",
        "                                     \r",
        "4% [4 libllvm3.4 1275 kB/6527 kB 20%] [Waiting for headers]"
       ]
      },
      {
       "output_type": "stream",
       "stream": "stdout",
       "text": [
        "\r",
        "                                                           \r",
        "5% [4 libllvm3.4 1394 kB/6527 kB 21%]"
       ]
      },
      {
       "output_type": "stream",
       "stream": "stdout",
       "text": [
        "\r",
        "5% [4 libllvm3.4 1493 kB/6527 kB 23%]"
       ]
      },
      {
       "output_type": "stream",
       "stream": "stdout",
       "text": [
        "\r",
        "6% [4 libllvm3.4 1642 kB/6527 kB 25%]"
       ]
      },
      {
       "output_type": "stream",
       "stream": "stdout",
       "text": [
        "\r",
        "6% [4 libllvm3.4 1736 kB/6527 kB 27%]"
       ]
      },
      {
       "output_type": "stream",
       "stream": "stdout",
       "text": [
        "\r",
        "6% [4 libllvm3.4 1866 kB/6527 kB 29%]"
       ]
      },
      {
       "output_type": "stream",
       "stream": "stdout",
       "text": [
        "\r",
        "7% [4 libllvm3.4 2031 kB/6527 kB 31%]"
       ]
      },
      {
       "output_type": "stream",
       "stream": "stdout",
       "text": [
        "\r",
        "7% [4 libllvm3.4 2188 kB/6527 kB 34%]"
       ]
      },
      {
       "output_type": "stream",
       "stream": "stdout",
       "text": [
        "\r",
        "8% [4 libllvm3.4 2570 kB/6527 kB 39%]"
       ]
      },
      {
       "output_type": "stream",
       "stream": "stdout",
       "text": [
        "\r",
        "9% [4 libllvm3.4 2796 kB/6527 kB 43%]"
       ]
      },
      {
       "output_type": "stream",
       "stream": "stdout",
       "text": [
        "\r",
        "                                     \r",
        "10% [4 libllvm3.4 2986 kB/6527 kB 46%]"
       ]
      },
      {
       "output_type": "stream",
       "stream": "stdout",
       "text": [
        "\r",
        "10% [4 libllvm3.4 3200 kB/6527 kB 49%]"
       ]
      },
      {
       "output_type": "stream",
       "stream": "stdout",
       "text": [
        "\r",
        "11% [4 libllvm3.4 3430 kB/6527 kB 53%]"
       ]
      },
      {
       "output_type": "stream",
       "stream": "stdout",
       "text": [
        "\r",
        "12% [4 libllvm3.4 3676 kB/6527 kB 56%]"
       ]
      },
      {
       "output_type": "stream",
       "stream": "stdout",
       "text": [
        "\r",
        "13% [4 libllvm3.4 3944 kB/6527 kB 60%]"
       ]
      },
      {
       "output_type": "stream",
       "stream": "stdout",
       "text": [
        "\r",
        "                                      \r",
        "14% [4 libllvm3.4 4208 kB/6527 kB 64%]                             708 kB/s 38s"
       ]
      },
      {
       "output_type": "stream",
       "stream": "stdout",
       "text": [
        "\r",
        "14% [4 libllvm3.4 4480 kB/6527 kB 69%]                             708 kB/s 38s"
       ]
      },
      {
       "output_type": "stream",
       "stream": "stdout",
       "text": [
        "\r",
        "15% [4 libllvm3.4 4764 kB/6527 kB 73%]                             708 kB/s 38s"
       ]
      },
      {
       "output_type": "stream",
       "stream": "stdout",
       "text": [
        "\r",
        "16% [4 libllvm3.4 5089 kB/6527 kB 78%]                             708 kB/s 37s"
       ]
      },
      {
       "output_type": "stream",
       "stream": "stdout",
       "text": [
        "\r",
        "17% [4 libllvm3.4 5415 kB/6527 kB 83%]                             708 kB/s 37s"
       ]
      },
      {
       "output_type": "stream",
       "stream": "stdout",
       "text": [
        "\r",
        "18% [4 libllvm3.4 5741 kB/6527 kB 88%]                             708 kB/s 36s"
       ]
      },
      {
       "output_type": "stream",
       "stream": "stdout",
       "text": [
        "\r",
        "19% [4 libllvm3.4 6067 kB/6527 kB 93%]                             708 kB/s 36s"
       ]
      },
      {
       "output_type": "stream",
       "stream": "stdout",
       "text": [
        "\r",
        "21% [4 libllvm3.4 6458 kB/6527 kB 99%]                             708 kB/s 35s\r",
        "21% [Waiting for headers]                                          708 kB/s 35s"
       ]
      },
      {
       "output_type": "stream",
       "stream": "stdout",
       "text": [
        "\r",
        "                                                                               \r",
        "Get:5 http://http.debian.net/debian/ jessie/main libwayland-client0 amd64 1.4.0-1 [22.5 kB]\r\n",
        "\r",
        "                                                                               \r",
        "21% [5 libwayland-client0 9894 B/22.5 kB 44%] [Waiting for headers]\r",
        "                                                                   \r",
        "21% [Waiting for headers]                                          708 kB/s 35s"
       ]
      },
      {
       "output_type": "stream",
       "stream": "stdout",
       "text": [
        "\r",
        "                                                                               \r",
        "Get:6 http://http.debian.net/debian/ jessie/main libwayland-server0 amd64 1.4.0-1 [27.5 kB]\r\n",
        "\r",
        "                                                                               \r",
        "21% [6 libwayland-server0 9960 B/27.5 kB 36%] [Waiting for headers]\r",
        "                                                                   \r",
        "21% [Waiting for headers]                                          708 kB/s 35s\r",
        "21% [Waiting for headers]                                          708 kB/s 35s"
       ]
      },
      {
       "output_type": "stream",
       "stream": "stdout",
       "text": [
        "\r",
        "                                                                               \r",
        "Get:7 http://http.debian.net/debian/ jessie/main libxcb-dri2-0 amd64 1.10-2 [12.1 kB]\r\n",
        "\r",
        "21% [7 libxcb-dri2-0 5550 B/12.1 kB 46%] [Waiting for headers]     708 kB/s 35s\r",
        "21% [Waiting for headers]                                          708 kB/s 35s"
       ]
      },
      {
       "output_type": "stream",
       "stream": "stdout",
       "text": [
        "\r",
        "                                                                               \r",
        "Get:8 http://http.debian.net/debian/ jessie/main libgbm1 amd64 10.1.0-5 [534 kB]\r\n",
        "\r",
        "21% [8 libgbm1 1204 B/534 kB 0%] [Waiting for headers]             708 kB/s 35s"
       ]
      },
      {
       "output_type": "stream",
       "stream": "stdout",
       "text": [
        "\r",
        "21% [8 libgbm1 132 kB/534 kB 25%]                                  708 kB/s 35s"
       ]
      },
      {
       "output_type": "stream",
       "stream": "stdout",
       "text": [
        "\r",
        "23% [8 libgbm1 534 kB/534 kB 100%]                                 708 kB/s 34s\r",
        "23% [Waiting for headers]                                          708 kB/s 34s"
       ]
      },
      {
       "output_type": "stream",
       "stream": "stdout",
       "text": [
        "\r",
        "                                                                               \r",
        "Get:9 http://http.debian.net/debian/ jessie/main libx11-xcb1 amd64 2:1.6.2-1 [162 kB]\r\n",
        "\r",
        "23% [9 libx11-xcb1 5548 B/162 kB 3%] [Waiting for headers]         708 kB/s 34s"
       ]
      },
      {
       "output_type": "stream",
       "stream": "stdout",
       "text": [
        "\r",
        "23% [Waiting for headers]                                          708 kB/s 34s"
       ]
      },
      {
       "output_type": "stream",
       "stream": "stdout",
       "text": [
        "\r",
        "23% [Waiting for headers]                                          708 kB/s 34s\r",
        "                                                                               \r",
        "Get:10 http://http.debian.net/debian/ jessie/main libxcb-render0 amd64 1.10-2 [16.5 kB]\r\n",
        "\r",
        "23% [10 libxcb-render0 5550 B/16.5 kB 34%] [Waiting for headers]   708 kB/s 34s\r",
        "23% [Waiting for headers]                                          708 kB/s 34s"
       ]
      },
      {
       "output_type": "stream",
       "stream": "stdout",
       "text": [
        "\r",
        "                                                                               \r",
        "Get:11 http://http.debian.net/debian/ jessie/main libxcb-shape0 amd64 1.10-2 [11.0 kB]\r\n",
        "\r",
        "23% [11 libxcb-shape0 5550 B/11.0 kB 50%] [Waiting for headers]    708 kB/s 34s"
       ]
      },
      {
       "output_type": "stream",
       "stream": "stdout",
       "text": [
        "\r",
        "23% [Waiting for headers]                                          708 kB/s 34s\r",
        "                                                                               \r",
        "Get:12 http://http.debian.net/debian/ jessie/main libxcb-xfixes0 amd64 1.10-2 [13.9 kB]\r\n",
        "\r",
        "23% [12 libxcb-xfixes0 5550 B/13.9 kB 40%] [Waiting for headers]   708 kB/s 34s\r",
        "23% [Waiting for headers]                                          708 kB/s 34s"
       ]
      },
      {
       "output_type": "stream",
       "stream": "stdout",
       "text": [
        "\r",
        "23% [Waiting for headers]                                          708 kB/s 34s\r",
        "                                                                               \r",
        "Get:13 http://http.debian.net/debian/ jessie/main libegl1-mesa amd64 10.1.0-5 [88.3 kB]\r\n",
        "\r",
        "23% [13 libegl1-mesa 5549 B/88.3 kB 6%] [Waiting for headers]      708 kB/s 34s"
       ]
      },
      {
       "output_type": "stream",
       "stream": "stdout",
       "text": [
        "\r",
        "24% [Waiting for headers]                                          708 kB/s 34s"
       ]
      },
      {
       "output_type": "stream",
       "stream": "stdout",
       "text": [
        "\r",
        "                                                                               \r",
        "Get:14 http://http.debian.net/debian/ jessie/main libpng12-0 amd64 1.2.50-1 [189 kB]\r\n",
        "\r",
        "24% [14 libpng12-0 4100 B/189 kB 2%] [Waiting for headers]         708 kB/s 34s"
       ]
      },
      {
       "output_type": "stream",
       "stream": "stdout",
       "text": [
        "\r",
        "24% [14 libpng12-0 175 kB/189 kB 92%]                              708 kB/s 34s\r",
        "24% [Waiting for headers]                                          708 kB/s 34s"
       ]
      },
      {
       "output_type": "stream",
       "stream": "stdout",
       "text": [
        "\r",
        "                                                                               \r",
        "Get:15 http://http.debian.net/debian/ jessie/main libfreetype6 amd64 2.5.2-1 [454 kB]\r\n",
        "\r",
        "24% [15 libfreetype6 1313 B/454 kB 0%] [Waiting for headers]       708 kB/s 34s"
       ]
      },
      {
       "output_type": "stream",
       "stream": "stdout",
       "text": [
        "\r",
        "25% [15 libfreetype6 289 kB/454 kB 64%]                            708 kB/s 33s"
       ]
      },
      {
       "output_type": "stream",
       "stream": "stdout",
       "text": [
        "\r",
        "26% [Waiting for headers]                                          708 kB/s 33s"
       ]
      },
      {
       "output_type": "stream",
       "stream": "stdout",
       "text": [
        "\r",
        "26% [Waiting for headers]                                          708 kB/s 33s\r",
        "                                                                               \r",
        "Get:16 http://http.debian.net/debian/ jessie/main ucf all 3.0027+nmu1 [70.6 kB]\r\n",
        "\r",
        "26% [16 ucf 0 B/70.6 kB 0%] [Waiting for headers]                  708 kB/s 33s"
       ]
      },
      {
       "output_type": "stream",
       "stream": "stdout",
       "text": [
        "\r",
        "26% [Waiting for headers]                                          708 kB/s 33s"
       ]
      },
      {
       "output_type": "stream",
       "stream": "stdout",
       "text": [
        "\r",
        "                                                                               \r",
        "Get:17 http://http.debian.net/debian/ jessie/main fonts-dejavu-core all 2.34-1 [1047 kB]\r\n",
        "\r",
        "                                                                               \r",
        "26% [17 fonts-dejavu-core 8444 B/1047 kB 1%] [Waiting for headers]"
       ]
      },
      {
       "output_type": "stream",
       "stream": "stdout",
       "text": [
        "\r",
        "                                                                  \r",
        "27% [17 fonts-dejavu-core 243 kB/1047 kB 23%]                      708 kB/s 33s"
       ]
      },
      {
       "output_type": "stream",
       "stream": "stdout",
       "text": [
        "\r",
        "28% [17 fonts-dejavu-core 699 kB/1047 kB 67%]                      708 kB/s 32s"
       ]
      },
      {
       "output_type": "stream",
       "stream": "stdout",
       "text": [
        "\r",
        "29% [Waiting for headers]                                          708 kB/s 31s\r",
        "29% [Waiting for headers]                                          708 kB/s 31s"
       ]
      },
      {
       "output_type": "stream",
       "stream": "stdout",
       "text": [
        "\r",
        "                                                                               \r",
        "Get:18 http://http.debian.net/debian/ jessie/main fonts-liberation all 1.07.3-3 [834 kB]\r\n",
        "\r",
        "29% [18 fonts-liberation 2476 B/834 kB 0%] [Waiting for headers]   708 kB/s 31s"
       ]
      },
      {
       "output_type": "stream",
       "stream": "stdout",
       "text": [
        "\r",
        "30% [18 fonts-liberation 355 kB/834 kB 42%]                        708 kB/s 31s"
       ]
      },
      {
       "output_type": "stream",
       "stream": "stdout",
       "text": [
        "\r",
        "32% [18 fonts-liberation 834 kB/834 kB 100%]                       708 kB/s 30s\r",
        "32% [Waiting for headers]                                          708 kB/s 30s"
       ]
      },
      {
       "output_type": "stream",
       "stream": "stdout",
       "text": [
        "\r",
        "                                                                               \r",
        "Get:19 http://http.debian.net/debian/ jessie/main fontconfig-config all 2.11.0-2 [270 kB]\r\n",
        "\r",
        "32% [19 fontconfig-config 8444 B/270 kB 3%] [Waiting for headers]  708 kB/s 30s"
       ]
      },
      {
       "output_type": "stream",
       "stream": "stdout",
       "text": [
        "\r",
        "33% [19 fontconfig-config 270 kB/270 kB 100%]                      708 kB/s 30s\r",
        "33% [Waiting for headers]                                          708 kB/s 30s"
       ]
      },
      {
       "output_type": "stream",
       "stream": "stdout",
       "text": [
        "\r",
        "                                                                               \r",
        "Get:20 http://http.debian.net/debian/ jessie/main libfontconfig1 amd64 2.11.0-2 [326 kB]\r\n",
        "\r",
        "33% [20 libfontconfig1 8444 B/326 kB 3%] [Waiting for headers]     708 kB/s 30s"
       ]
      },
      {
       "output_type": "stream",
       "stream": "stdout",
       "text": [
        "\r",
        "34% [Waiting for headers]                                          708 kB/s 29s"
       ]
      },
      {
       "output_type": "stream",
       "stream": "stdout",
       "text": [
        "\r",
        "                                                                               \r",
        "Get:21 http://http.debian.net/debian/ jessie/main libxcb-dri3-0 amd64 1.10-2 [10.6 kB]\r\n",
        "\r",
        "34% [21 libxcb-dri3-0 8446 B/10.6 kB 80%] [Waiting for headers]    708 kB/s 29s\r",
        "34% [Waiting for headers]                                          708 kB/s 29s"
       ]
      },
      {
       "output_type": "stream",
       "stream": "stdout",
       "text": [
        "\r",
        "                                                                               \r",
        "Get:22 http://http.debian.net/debian/ jessie/main libxcb-glx0 amd64 1.10-2 [25.3 kB]\r\n",
        "\r",
        "34% [22 libxcb-glx0 5550 B/25.3 kB 22%] [Waiting for headers]      708 kB/s 29s\r",
        "34% [Waiting for headers]                                          708 kB/s 29s"
       ]
      },
      {
       "output_type": "stream",
       "stream": "stdout",
       "text": [
        "\r",
        "34% [Waiting for headers]                                          708 kB/s 29s\r",
        "                                                                               \r",
        "Get:23 http://http.debian.net/debian/ jessie/main libxcb-present0 amd64 1.10-2 [10.7 kB]\r\n",
        "\r",
        "34% [23 libxcb-present0 8192 B/10.7 kB 77%] [Waiting for headers]  708 kB/s 29s"
       ]
      },
      {
       "output_type": "stream",
       "stream": "stdout",
       "text": [
        "\r",
        "34% [Waiting for headers]                                          708 kB/s 29s\r",
        "                                                                               \r",
        "Get:24 http://http.debian.net/debian/ jessie/main libxcb-sync1 amd64 1.10-2 [13.6 kB]\r\n",
        "\r",
        "34% [24 libxcb-sync1 8446 B/13.6 kB 62%] [Waiting for headers]     708 kB/s 29s\r",
        "34% [Waiting for headers]                                          708 kB/s 29s"
       ]
      },
      {
       "output_type": "stream",
       "stream": "stdout",
       "text": [
        "\r",
        "                                                                               \r",
        "Get:25 http://http.debian.net/debian/ jessie/main libxfixes3 amd64 1:5.0.1-1 [22.5 kB]\r\n",
        "\r",
        "34% [25 libxfixes3 6998 B/22.5 kB 31%] [Waiting for headers]       708 kB/s 29s\r",
        "34% [Waiting for headers]                                          708 kB/s 29s\r",
        "34% [Waiting for headers]                                          708 kB/s 29s"
       ]
      },
      {
       "output_type": "stream",
       "stream": "stdout",
       "text": [
        "\r",
        "                                                                               \r",
        "Get:26 http://http.debian.net/debian/ jessie/main libxdamage1 amd64 1:1.1.4-1 [15.1 kB]\r\n",
        "\r",
        "34% [26 libxdamage1 5550 B/15.1 kB 37%] [Waiting for headers]      708 kB/s 29s\r",
        "34% [Waiting for headers]                                          708 kB/s 29s"
       ]
      },
      {
       "output_type": "stream",
       "stream": "stdout",
       "text": [
        "\r",
        "                                                                               \r",
        "Get:27 http://http.debian.net/debian/ jessie/main libxshmfence1 amd64 1.1-2 [6452 B]\r\n",
        "\r",
        "34% [27 libxshmfence1 6452 B/6452 B 100%] [Waiting for headers]    708 kB/s 29s\r",
        "34% [Waiting for headers]                                          708 kB/s 29s"
       ]
      },
      {
       "output_type": "stream",
       "stream": "stdout",
       "text": [
        "\r",
        "                                                                               \r",
        "Get:28 http://http.debian.net/debian/ jessie/main libxxf86vm1 amd64 1:1.1.3-1 [19.1 kB]\r\n",
        "\r",
        "34% [28 libxxf86vm1 11.3 kB/19.1 kB 60%] [Waiting for headers]     708 kB/s 29s\r",
        "34% [Waiting for headers]                                          708 kB/s 29s\r",
        "34% [Waiting for headers]                                          708 kB/s 29s"
       ]
      },
      {
       "output_type": "stream",
       "stream": "stdout",
       "text": [
        "\r",
        "                                                                               \r",
        "Get:29 http://http.debian.net/debian/ jessie/main libgl1-mesa-glx amd64 10.1.0-5 [144 kB]\r\n",
        "\r",
        "34% [29 libgl1-mesa-glx 8444 B/144 kB 6%] [Waiting for headers]    708 kB/s 29s"
       ]
      },
      {
       "output_type": "stream",
       "stream": "stdout",
       "text": [
        "\r",
        "34% [29 libgl1-mesa-glx 144 kB/144 kB 100%]                        708 kB/s 29s\r",
        "34% [Waiting for headers]                                          708 kB/s 29s"
       ]
      },
      {
       "output_type": "stream",
       "stream": "stdout",
       "text": [
        "\r",
        "                                                                               \r",
        "Get:30 http://http.debian.net/debian/ jessie/main libpixman-1-0 amd64 0.32.4-1 [496 kB]\r\n",
        "\r",
        "34% [30 libpixman-1-0 4100 B/496 kB 1%] [Waiting for headers]      708 kB/s 29s"
       ]
      },
      {
       "output_type": "stream",
       "stream": "stdout",
       "text": [
        "\r",
        "36% [30 libpixman-1-0 433 kB/496 kB 87%]                           708 kB/s 28s\r",
        "36% [Waiting for headers]                                          708 kB/s 28s"
       ]
      },
      {
       "output_type": "stream",
       "stream": "stdout",
       "text": [
        "\r",
        "                                                                               \r",
        "Get:31 http://http.debian.net/debian/ jessie/main libxcb-shm0 amd64 1.10-2 [10.8 kB]\r\n",
        "\r",
        "36% [31 libxcb-shm0 8446 B/10.8 kB 78%] [Waiting for headers]      708 kB/s 28s\r",
        "36% [Waiting for headers]                                          708 kB/s 28s"
       ]
      },
      {
       "output_type": "stream",
       "stream": "stdout",
       "text": [
        "\r",
        "                                                                               \r",
        "Get:32 http://http.debian.net/debian/ jessie/main libxrender1 amd64 1:0.9.8-1 [33.5 kB]\r\n",
        "\r",
        "36% [32 libxrender1 11.3 kB/33.5 kB 34%] [Waiting for headers]     708 kB/s 28s\r",
        "36% [Waiting for headers]                                          708 kB/s 28s\r",
        "36% [Waiting for headers]                                          708 kB/s 28s"
       ]
      },
      {
       "output_type": "stream",
       "stream": "stdout",
       "text": [
        "\r",
        "                                                                               \r",
        "Get:33 http://http.debian.net/debian/ jessie/main libcairo2 amd64 1.12.16-2 [987 kB]\r\n",
        "\r",
        "36% [33 libcairo2 8444 B/987 kB 1%] [Waiting for headers]          708 kB/s 28s"
       ]
      },
      {
       "output_type": "stream",
       "stream": "stdout",
       "text": [
        "\r",
        "37% [33 libcairo2 405 kB/987 kB 41%]                               708 kB/s 28s"
       ]
      },
      {
       "output_type": "stream",
       "stream": "stdout",
       "text": [
        "\r",
        "39% [33 libcairo2 984 kB/987 kB 100%]                              708 kB/s 27s\r",
        "39% [Waiting for headers]                                          708 kB/s 27s"
       ]
      },
      {
       "output_type": "stream",
       "stream": "stdout",
       "text": [
        "\r",
        "                                                                               \r",
        "Get:34 http://http.debian.net/debian/ jessie/main libdatrie1 amd64 0.2.8-1 [32.6 kB]\r\n",
        "\r",
        "39% [34 libdatrie1 5550 B/32.6 kB 17%] [Waiting for headers]       708 kB/s 27s\r",
        "39% [Waiting for headers]                                          708 kB/s 27s"
       ]
      },
      {
       "output_type": "stream",
       "stream": "stdout",
       "text": [
        "\r",
        "                                                                               \r",
        "Get:35 http://http.debian.net/debian/ jessie/main libpciaccess0 amd64 0.13.2-1 [46.5 kB]\r\n",
        "\r",
        "39% [35 libpciaccess0 8447 B/46.5 kB 18%] [Waiting for headers]    708 kB/s 27s\r",
        "39% [Waiting for headers]                                          708 kB/s 27s\r",
        "39% [Waiting for headers]                                          708 kB/s 27s"
       ]
      },
      {
       "output_type": "stream",
       "stream": "stdout",
       "text": [
        "\r",
        "                                                                               \r",
        "Get:36 http://http.debian.net/debian/ jessie/main libdrm-intel1 amd64 2.4.52-1 [62.2 kB]\r\n",
        "\r",
        "40% [36 libdrm-intel1 6998 B/62.2 kB 11%] [Waiting for headers]    708 kB/s 27s"
       ]
      },
      {
       "output_type": "stream",
       "stream": "stdout",
       "text": [
        "\r",
        "40% [Waiting for headers]                                          708 kB/s 27s"
       ]
      },
      {
       "output_type": "stream",
       "stream": "stdout",
       "text": [
        "\r",
        "                                                                               \r",
        "Get:37 http://http.debian.net/debian/ jessie/main libdrm-nouveau2 amd64 2.4.52-1 [20.8 kB]\r\n",
        "\r",
        "40% [37 libdrm-nouveau2 8446 B/20.8 kB 41%] [Waiting for headers]  708 kB/s 27s\r",
        "40% [Waiting for headers]                                          708 kB/s 27s"
       ]
      },
      {
       "output_type": "stream",
       "stream": "stdout",
       "text": [
        "\r",
        "40% [Waiting for headers]                                          708 kB/s 27s\r",
        "                                                                               \r",
        "Get:38 http://http.debian.net/debian/ jessie/main libdrm-radeon1 amd64 2.4.52-1 [31.2 kB]\r\n",
        "\r",
        "40% [38 libdrm-radeon1 5550 B/31.2 kB 18%] [Waiting for headers]   708 kB/s 27s\r",
        "40% [Waiting for headers]                                          708 kB/s 27s"
       ]
      },
      {
       "output_type": "stream",
       "stream": "stdout",
       "text": [
        "\r",
        "                                                                               \r",
        "Get:39 http://http.debian.net/debian/ jessie/main libelf1 amd64 0.157-3 [156 kB]\r\n",
        "\r",
        "40% [39 libelf1 5548 B/156 kB 4%] [Waiting for headers]            708 kB/s 27s"
       ]
      },
      {
       "output_type": "stream",
       "stream": "stdout",
       "text": [
        "\r",
        "40% [Waiting for headers]                                          708 kB/s 26s"
       ]
      },
      {
       "output_type": "stream",
       "stream": "stdout",
       "text": [
        "\r",
        "40% [Waiting for headers]                                          708 kB/s 26s\r",
        "                                                                               \r",
        "Get:40 http://http.debian.net/debian/ jessie/main libopenvg1-mesa amd64 10.1.0-5 [42.9 kB]\r\n",
        "\r",
        "40% [40 libopenvg1-mesa 8446 B/42.9 kB 20%] [Waiting for headers]  708 kB/s 26s"
       ]
      },
      {
       "output_type": "stream",
       "stream": "stdout",
       "text": [
        "\r",
        "40% [Waiting for headers]                                          708 kB/s 26s"
       ]
      },
      {
       "output_type": "stream",
       "stream": "stdout",
       "text": [
        "\r",
        "                                                                               \r",
        "Get:41 http://http.debian.net/debian/ jessie/main libwayland-egl1-mesa amd64 10.1.0-5 [37.7 kB]\r\n",
        "\r",
        "                                                                               \r",
        "40% [41 libwayland-egl1-mesa 8446 B/37.7 kB 22%] [Waiting for headers]\r",
        "                                                                      \r",
        "41% [Waiting for headers]                                         1435 kB/s 13s"
       ]
      },
      {
       "output_type": "stream",
       "stream": "stdout",
       "text": [
        "\r",
        "41% [Waiting for headers]                                         1435 kB/s 13s\r",
        "                                                                               \r",
        "Get:42 http://http.debian.net/debian/ jessie/main libegl1-mesa-drivers amd64 10.1.0-5 [2517 kB]\r\n",
        "\r",
        "                                                                               \r",
        "41% [42 libegl1-mesa-drivers 6994 B/2517 kB 0%] [Waiting for headers]"
       ]
      },
      {
       "output_type": "stream",
       "stream": "stdout",
       "text": [
        "\r",
        "                                                                     \r",
        "42% [42 libegl1-mesa-drivers 515 kB/2517 kB 20%]                  1435 kB/s 12s"
       ]
      },
      {
       "output_type": "stream",
       "stream": "stdout",
       "text": [
        "\r",
        "44% [42 libegl1-mesa-drivers 1102 kB/2517 kB 44%]                 1435 kB/s 12s"
       ]
      },
      {
       "output_type": "stream",
       "stream": "stdout",
       "text": [
        "\r",
        "46% [42 libegl1-mesa-drivers 1753 kB/2517 kB 70%]                 1435 kB/s 11s"
       ]
      },
      {
       "output_type": "stream",
       "stream": "stdout",
       "text": [
        "\r",
        "48% [42 libegl1-mesa-drivers 2456 kB/2517 kB 98%]                 1435 kB/s 11s\r",
        "48% [Waiting for headers]                                         1435 kB/s 11s"
       ]
      },
      {
       "output_type": "stream",
       "stream": "stdout",
       "text": [
        "\r",
        "                                                                               \r",
        "Get:43 http://http.debian.net/debian/ jessie/main libjpeg8 amd64 8d-2 [120 kB]\r\n",
        "\r",
        "48% [43 libjpeg8 6996 B/120 kB 6%] [Waiting for headers]          1435 kB/s 11s"
       ]
      },
      {
       "output_type": "stream",
       "stream": "stdout",
       "text": [
        "\r",
        "49% [Waiting for headers]                                         1435 kB/s 11s\r",
        "49% [Waiting for headers]                                         1435 kB/s 11s"
       ]
      },
      {
       "output_type": "stream",
       "stream": "stdout",
       "text": [
        "\r",
        "                                                                               \r",
        "Get:44 http://http.debian.net/debian/ jessie/main libjbig0 amd64 2.0-2 [32.2 kB]\r\n",
        "\r",
        "49% [44 libjbig0 4102 B/32.2 kB 13%] [Waiting for headers]        1435 kB/s 11s\r",
        "49% [Waiting for headers]                                         1435 kB/s 11s"
       ]
      },
      {
       "output_type": "stream",
       "stream": "stdout",
       "text": [
        "\r",
        "                                                                               \r",
        "Get:45 http://http.debian.net/debian/ jessie/main libtiff5 amd64 4.0.3-8 [209 kB]\r\n",
        "\r",
        "49% [45 libtiff5 5548 B/209 kB 3%] [Waiting for headers]          1435 kB/s 11s"
       ]
      },
      {
       "output_type": "stream",
       "stream": "stdout",
       "text": [
        "\r",
        "50% [45 libtiff5 209 kB/209 kB 100%]                              1435 kB/s 11s\r",
        "50% [Waiting for headers] [Waiting for headers]                   1435 kB/s 11s"
       ]
      },
      {
       "output_type": "stream",
       "stream": "stdout",
       "text": [
        "\r",
        "                                                                               \r",
        "Get:46 http://http.debian.net/debian/ jessie/main libvpx1 amd64 1.3.0-2 [565 kB]\r\n",
        "\r",
        "50% [46 libvpx1 4100 B/565 kB 1%] [Waiting for headers]           1435 kB/s 11s"
       ]
      },
      {
       "output_type": "stream",
       "stream": "stdout",
       "text": [
        "\r",
        "51% [46 libvpx1 565 kB/565 kB 100%] [Waiting for headers]         1435 kB/s 10s\r",
        "51% [Waiting for headers]                                         1435 kB/s 10s"
       ]
      },
      {
       "output_type": "stream",
       "stream": "stdout",
       "text": [
        "\r",
        "                                                                               \r",
        "Get:47 http://http.debian.net/debian/ jessie/main libxpm4 amd64 1:3.5.10-1 [49.4 kB]\r\n",
        "\r",
        "51% [47 libxpm4 4102 B/49.4 kB 8%] [Waiting for headers]          1435 kB/s 10s"
       ]
      },
      {
       "output_type": "stream",
       "stream": "stdout",
       "text": [
        "\r",
        "52% [Waiting for headers]                                         1435 kB/s 10s"
       ]
      },
      {
       "output_type": "stream",
       "stream": "stdout",
       "text": [
        "\r",
        "                                                                               \r",
        "Get:48 http://http.debian.net/debian/ jessie/main libgd3 amd64 2.1.0-3+b1 [144 kB]\r\n",
        "\r",
        "52% [48 libgd3 2652 B/144 kB 2%] [Waiting for headers]            1435 kB/s 10s"
       ]
      },
      {
       "output_type": "stream",
       "stream": "stdout",
       "text": [
        "\r",
        "52% [48 libgd3 130 kB/144 kB 90%]                                 1435 kB/s 10s\r",
        "52% [Working]                                                     1435 kB/s 10s"
       ]
      },
      {
       "output_type": "stream",
       "stream": "stdout",
       "text": [
        "\r",
        "                                                                               \r",
        "Get:49 http://http.debian.net/debian/ jessie/main libgl1-mesa-dri amd64 10.1.0-5 [5804 kB]\r\n",
        "\r",
        "52% [49 libgl1-mesa-dri 8442 B/5804 kB 0%]                        1435 kB/s 10s"
       ]
      },
      {
       "output_type": "stream",
       "stream": "stdout",
       "text": [
        "\r",
        "56% [49 libgl1-mesa-dri 1138 kB/5804 kB 20%]                       1435 kB/s 9s"
       ]
      },
      {
       "output_type": "stream",
       "stream": "stdout",
       "text": [
        "\r",
        "59% [49 libgl1-mesa-dri 2264 kB/5804 kB 39%]                       1435 kB/s 9s"
       ]
      },
      {
       "output_type": "stream",
       "stream": "stdout",
       "text": [
        "\r",
        "63% [49 libgl1-mesa-dri 3391 kB/5804 kB 58%]                       1435 kB/s 8s"
       ]
      },
      {
       "output_type": "stream",
       "stream": "stdout",
       "text": [
        "\r",
        "66% [49 libgl1-mesa-dri 4518 kB/5804 kB 78%]                       1435 kB/s 7s"
       ]
      },
      {
       "output_type": "stream",
       "stream": "stdout",
       "text": [
        "\r",
        "70% [49 libgl1-mesa-dri 5644 kB/5804 kB 97%]                       1435 kB/s 6s"
       ]
      },
      {
       "output_type": "stream",
       "stream": "stdout",
       "text": [
        "\r",
        "70% [Working]                                                      1435 kB/s 6s"
       ]
      },
      {
       "output_type": "stream",
       "stream": "stdout",
       "text": [
        "\r",
        "                                                                               \r",
        "Get:50 http://http.debian.net/debian/ jessie/main libglib2.0-0 amd64 2.40.0-2 [2403 kB]\r\n",
        "\r",
        "70% [50 libglib2.0-0 5504 B/2403 kB 0%]                            1435 kB/s 6s"
       ]
      },
      {
       "output_type": "stream",
       "stream": "stdout",
       "text": [
        "\r",
        "74% [50 libglib2.0-0 1138 kB/2403 kB 47%]                          1435 kB/s 5s"
       ]
      },
      {
       "output_type": "stream",
       "stream": "stdout",
       "text": [
        "\r",
        "77% [50 libglib2.0-0 2264 kB/2403 kB 94%]                          1435 kB/s 5s"
       ]
      },
      {
       "output_type": "stream",
       "stream": "stdout",
       "text": [
        "\r",
        "78% [Working]                                                      1435 kB/s 4s"
       ]
      },
      {
       "output_type": "stream",
       "stream": "stdout",
       "text": [
        "\r",
        "                                                                               \r",
        "Get:51 http://http.debian.net/debian/ jessie/main libgraphite2-3 amd64 1.2.4-2 [57.4 kB]\r\n",
        "\r",
        "78% [51 libgraphite2-3 5550 B/57.4 kB 10%]                         1435 kB/s 4s"
       ]
      },
      {
       "output_type": "stream",
       "stream": "stdout",
       "text": [
        "\r",
        "78% [Working]                                                      1435 kB/s 4s"
       ]
      },
      {
       "output_type": "stream",
       "stream": "stdout",
       "text": [
        "\r",
        "                                                                               \r",
        "Get:52 http://http.debian.net/debian/ jessie/main libharfbuzz0b amd64 0.9.27-1 [450 kB]\r\n",
        "\r",
        "78% [52 libharfbuzz0b 5548 B/450 kB 1%]                            1435 kB/s 4s"
       ]
      },
      {
       "output_type": "stream",
       "stream": "stdout",
       "text": [
        "\r",
        "79% [Working]                                                      2014 kB/s 3s"
       ]
      },
      {
       "output_type": "stream",
       "stream": "stdout",
       "text": [
        "\r",
        "                                                                               \r",
        "Get:53 http://http.debian.net/debian/ jessie/main x11-common all 1:7.7+7 [287 kB]\r\n",
        "\r",
        "79% [53 x11-common 8444 B/287 kB 3%]                               2014 kB/s 3s"
       ]
      },
      {
       "output_type": "stream",
       "stream": "stdout",
       "text": [
        "\r",
        "80% [Working]                                                      2014 kB/s 3s"
       ]
      },
      {
       "output_type": "stream",
       "stream": "stdout",
       "text": [
        "\r",
        "                                                                               \r",
        "Get:54 http://http.debian.net/debian/ jessie/main libice6 amd64 2:1.0.8-2 [63.1 kB]\r\n",
        "\r",
        "80% [54 libice6 8446 B/63.1 kB 13%]                                2014 kB/s 3s\r",
        "80% [Working]                                                      2014 kB/s 3s"
       ]
      },
      {
       "output_type": "stream",
       "stream": "stdout",
       "text": [
        "\r",
        "                                                                               \r",
        "Get:55 http://http.debian.net/debian/ jessie/main libltdl7 amd64 2.4.2-1.7 [352 kB]\r\n",
        "\r",
        "80% [55 libltdl7 6996 B/352 kB 2%]                                 2014 kB/s 3s"
       ]
      },
      {
       "output_type": "stream",
       "stream": "stdout",
       "text": [
        "\r",
        "81% [Working]                                                      2014 kB/s 2s"
       ]
      },
      {
       "output_type": "stream",
       "stream": "stdout",
       "text": [
        "\r",
        "                                                                               \r",
        "Get:56 http://http.debian.net/debian/ jessie/main libthai-data all 0.1.20-3 [157 kB]\r\n",
        "\r",
        "82% [56 libthai-data 5549 B/157 kB 4%]                             2014 kB/s 2s"
       ]
      },
      {
       "output_type": "stream",
       "stream": "stdout",
       "text": [
        "\r",
        "82% [Working]                                                      2014 kB/s 2s\r",
        "                                                                               \r",
        "Get:57 http://http.debian.net/debian/ jessie/main libthai0 amd64 0.1.20-3 [44.2 kB]\r\n",
        "\r",
        "82% [57 libthai0 4096 B/44.2 kB 9%]                                2014 kB/s 2s"
       ]
      },
      {
       "output_type": "stream",
       "stream": "stdout",
       "text": [
        "\r",
        "82% [Working]                                                      2014 kB/s 2s"
       ]
      },
      {
       "output_type": "stream",
       "stream": "stdout",
       "text": [
        "\r",
        "                                                                               \r",
        "Get:58 http://http.debian.net/debian/ jessie/main fontconfig amd64 2.11.0-2 [402 kB]\r\n",
        "\r",
        "82% [58 fontconfig 5548 B/402 kB 1%]                               2014 kB/s 2s"
       ]
      },
      {
       "output_type": "stream",
       "stream": "stdout",
       "text": [
        "\r",
        "83% [Working]                                                      2014 kB/s 2s"
       ]
      },
      {
       "output_type": "stream",
       "stream": "stdout",
       "text": [
        "\r",
        "                                                                               \r",
        "Get:59 http://http.debian.net/debian/ jessie/main libpango-1.0-0 amd64 1.36.3-1 [281 kB]\r\n",
        "\r",
        "83% [59 libpango-1.0-0 8192 B/281 kB 3%]                           2014 kB/s 2s"
       ]
      },
      {
       "output_type": "stream",
       "stream": "stdout",
       "text": [
        "\r",
        "84% [Working]                                                      2014 kB/s 2s"
       ]
      },
      {
       "output_type": "stream",
       "stream": "stdout",
       "text": [
        "\r",
        "                                                                               \r",
        "Get:60 http://http.debian.net/debian/ jessie/main libpangoft2-1.0-0 amd64 1.36.3-1 [205 kB]\r\n",
        "\r",
        "84% [60 libpangoft2-1.0-0 6996 B/205 kB 3%]                        2014 kB/s 2s"
       ]
      },
      {
       "output_type": "stream",
       "stream": "stdout",
       "text": [
        "\r",
        "85% [Working]                                                      2014 kB/s 2s"
       ]
      },
      {
       "output_type": "stream",
       "stream": "stdout",
       "text": [
        "\r",
        "                                                                               \r",
        "Get:61 http://http.debian.net/debian/ jessie/main libpangocairo-1.0-0 amd64 1.36.3-1 [192 kB]\r\n",
        "\r",
        "85% [61 libpangocairo-1.0-0 8444 B/192 kB 4%]                      2014 kB/s 2s"
       ]
      },
      {
       "output_type": "stream",
       "stream": "stdout",
       "text": [
        "\r",
        "86% [Working]                                                      2014 kB/s 2s"
       ]
      },
      {
       "output_type": "stream",
       "stream": "stdout",
       "text": [
        "\r",
        "                                                                               \r",
        "Get:62 http://http.debian.net/debian/ jessie/main libsm6 amd64 2:1.2.1-2 [34.2 kB]\r\n",
        "\r",
        "86% [62 libsm6 5550 B/34.2 kB 16%]                                 2014 kB/s 2s\r",
        "86% [Working]                                                      2014 kB/s 2s"
       ]
      },
      {
       "output_type": "stream",
       "stream": "stdout",
       "text": [
        "\r",
        "                                                                               \r",
        "Get:63 http://http.debian.net/debian/ jessie/main libxt6 amd64 1:1.1.4-1 [180 kB]\r\n",
        "\r",
        "86% [63 libxt6 8445 B/180 kB 5%]                                   2014 kB/s 2s"
       ]
      },
      {
       "output_type": "stream",
       "stream": "stdout",
       "text": [
        "\r",
        "86% [Working]                                                      2014 kB/s 2s"
       ]
      },
      {
       "output_type": "stream",
       "stream": "stdout",
       "text": [
        "\r",
        "                                                                               \r",
        "Get:64 http://http.debian.net/debian/ jessie/main libxmu6 amd64 2:1.1.1-1 [66.6 kB]\r\n",
        "\r",
        "86% [64 libxmu6 4598 B/66.6 kB 7%]                                 2014 kB/s 2s"
       ]
      },
      {
       "output_type": "stream",
       "stream": "stdout",
       "text": [
        "\r",
        "86% [Working]                                                      2014 kB/s 2s"
       ]
      },
      {
       "output_type": "stream",
       "stream": "stdout",
       "text": [
        "\r",
        "                                                                               \r",
        "Get:65 http://http.debian.net/debian/ jessie/main libxaw7 amd64 2:1.0.12-1 [192 kB]\r\n",
        "\r",
        "86% [65 libxaw7 6996 B/192 kB 4%]                                  2014 kB/s 2s"
       ]
      },
      {
       "output_type": "stream",
       "stream": "stdout",
       "text": [
        "\r",
        "87% [Working]                                                      2014 kB/s 2s"
       ]
      },
      {
       "output_type": "stream",
       "stream": "stdout",
       "text": [
        "\r",
        "                                                                               \r",
        "Get:66 http://http.debian.net/debian/ jessie/main libtxc-dxtn-s2tc0 amd64 0~git20131104-1.1 [51.6 kB]\r\n",
        "\r",
        "87% [66 libtxc-dxtn-s2tc0 4103 B/51.6 kB 8%]                       2014 kB/s 2s\r",
        "87% [Working]                                                      2014 kB/s 2s"
       ]
      },
      {
       "output_type": "stream",
       "stream": "stdout",
       "text": [
        "\r",
        "                                                                               \r",
        "Get:67 http://http.debian.net/debian/ jessie/main libcdt4 amd64 2.26.3-16.2 [57.8 kB]\r\n",
        "\r",
        "87% [67 libcdt4 8446 B/57.8 kB 15%]                                2014 kB/s 2s"
       ]
      },
      {
       "output_type": "stream",
       "stream": "stdout",
       "text": [
        "\r",
        "87% [Working]                                                      2014 kB/s 2s"
       ]
      },
      {
       "output_type": "stream",
       "stream": "stdout",
       "text": [
        "\r",
        "                                                                               \r",
        "Get:68 http://http.debian.net/debian/ jessie/main libcgraph5 amd64 2.26.3-16.2 [79.8 kB]\r\n",
        "\r",
        "87% [68 libcgraph5 8445 B/79.8 kB 11%]                             2014 kB/s 2s\r",
        "88% [Working]                                                      2014 kB/s 1s"
       ]
      },
      {
       "output_type": "stream",
       "stream": "stdout",
       "text": [
        "\r",
        "                                                                               \r",
        "Get:69 http://http.debian.net/debian/ jessie/main libgraph4 amd64 2.26.3-16.2 [68.9 kB]\r\n",
        "\r",
        "88% [69 libgraph4 4101 B/68.9 kB 6%]                               2014 kB/s 1s\r",
        "88% [Working]                                                      2014 kB/s 1s"
       ]
      },
      {
       "output_type": "stream",
       "stream": "stdout",
       "text": [
        "\r",
        "                                                                               \r",
        "Get:70 http://http.debian.net/debian/ jessie/main libpathplan4 amd64 2.26.3-16.2 [62.0 kB]\r\n",
        "\r",
        "88% [70 libpathplan4 8446 B/62.0 kB 14%]                           2014 kB/s 1s\r",
        "88% [Working]                                                      2014 kB/s 1s"
       ]
      },
      {
       "output_type": "stream",
       "stream": "stdout",
       "text": [
        "\r",
        "                                                                               \r",
        "Get:71 http://http.debian.net/debian/ jessie/main libxdot4 amd64 2.26.3-16.2 [52.7 kB]\r\n",
        "\r",
        "88% [71 libxdot4 5550 B/52.7 kB 11%]                               2014 kB/s 1s\r",
        "88% [Working]                                                      2014 kB/s 1s"
       ]
      },
      {
       "output_type": "stream",
       "stream": "stdout",
       "text": [
        "\r",
        "                                                                               \r",
        "Get:72 http://http.debian.net/debian/ jessie/main libgvc5 amd64 2.26.3-16.2 [436 kB]\r\n",
        "\r",
        "88% [72 libgvc5 4100 B/436 kB 1%]                                  2014 kB/s 1s"
       ]
      },
      {
       "output_type": "stream",
       "stream": "stdout",
       "text": [
        "\r",
        "90% [Working]                                                      2014 kB/s 1s"
       ]
      },
      {
       "output_type": "stream",
       "stream": "stdout",
       "text": [
        "\r",
        "                                                                               \r",
        "Get:73 http://http.debian.net/debian/ jessie/main libgvpr1 amd64 2.26.3-16.2 [205 kB]\r\n",
        "\r",
        "90% [73 libgvpr1 6996 B/205 kB 3%]                                 2014 kB/s 1s"
       ]
      },
      {
       "output_type": "stream",
       "stream": "stdout",
       "text": [
        "\r",
        "90% [Working]                                                      2014 kB/s 1s"
       ]
      },
      {
       "output_type": "stream",
       "stream": "stdout",
       "text": [
        "\r",
        "                                                                               \r",
        "Get:74 http://http.debian.net/debian/ jessie/main graphviz amd64 2.26.3-16.2 [308 kB]\r\n",
        "\r",
        "90% [74 graphviz 5548 B/308 kB 2%]                                 2014 kB/s 1s"
       ]
      },
      {
       "output_type": "stream",
       "stream": "stdout",
       "text": [
        "\r",
        "91% [Working]                                                      2014 kB/s 1s"
       ]
      },
      {
       "output_type": "stream",
       "stream": "stdout",
       "text": [
        "\r",
        "                                                                               \r",
        "Get:75 http://http.debian.net/debian/ jessie/main libglib2.0-data all 2.40.0-2 [2182 kB]\r\n",
        "\r",
        "91% [75 libglib2.0-data 8442 B/2182 kB 0%]                         2014 kB/s 1s"
       ]
      },
      {
       "output_type": "stream",
       "stream": "stdout",
       "text": [
        "\r",
        "95% [75 libglib2.0-data 1138 kB/2182 kB 52%]                       2014 kB/s 0s"
       ]
      },
      {
       "output_type": "stream",
       "stream": "stdout",
       "text": [
        "\r",
        "98% [Working]                                                      2014 kB/s 0s"
       ]
      },
      {
       "output_type": "stream",
       "stream": "stdout",
       "text": [
        "\r",
        "                                                                               \r",
        "Get:76 http://http.debian.net/debian/ jessie/main shared-mime-info amd64 1.2-1 [641 kB]\r\n"
       ]
      },
      {
       "output_type": "stream",
       "stream": "stdout",
       "text": [
        "\r",
        "98% [76 shared-mime-info 8444 B/641 kB 1%]                         2014 kB/s 0s"
       ]
      },
      {
       "output_type": "stream",
       "stream": "stdout",
       "text": [
        "\r",
        "100% [Working]                                                     2014 kB/s 0s"
       ]
      },
      {
       "output_type": "stream",
       "stream": "stdout",
       "text": [
        "\r",
        "                                                                               \r",
        "Get:77 http://http.debian.net/debian/ jessie/main ttf-liberation all 1.07.3-3 [9304 B]\r\n",
        "\r",
        "100% [77 ttf-liberation 4103 B/9304 B 44%]                         2014 kB/s 0s\r",
        "100% [Working]                                                     2014 kB/s 0s\r",
        "                                                                               \r",
        "Fetched 31.9 MB in 22s (1411 kB/s)\r\n"
       ]
      },
      {
       "output_type": "stream",
       "stream": "stdout",
       "text": [
        "debconf: delaying package configuration, since apt-utils is not installed\r\n"
       ]
      },
      {
       "output_type": "stream",
       "stream": "stdout",
       "text": [
        "Selecting previously unselected package libudev1:amd64.\r\n",
        "(Reading database ... \r"
       ]
      },
      {
       "output_type": "stream",
       "stream": "stdout",
       "text": [
        "(Reading database ... 5%\r",
        "(Reading database ... 10%\r"
       ]
      },
      {
       "output_type": "stream",
       "stream": "stdout",
       "text": [
        "(Reading database ... 15%\r",
        "(Reading database ... 20%\r",
        "(Reading database ... 25%\r",
        "(Reading database ... 30%\r",
        "(Reading database ... 35%\r",
        "(Reading database ... 40%\r",
        "(Reading database ... 45%\r",
        "(Reading database ... 50%\r",
        "(Reading database ... 55%\r",
        "(Reading database ... 60%\r",
        "(Reading database ... 65%\r",
        "(Reading database ... 70%\r",
        "(Reading database ... 75%\r",
        "(Reading database ... 80%\r",
        "(Reading database ... 85%\r",
        "(Reading database ... 90%\r",
        "(Reading database ... 95%\r",
        "(Reading database ... 100%\r",
        "(Reading database ... 15798 files and directories currently installed.)\r\n",
        "Preparing to unpack .../libudev1_204-8_amd64.deb ...\r\n",
        "Unpacking libudev1:amd64 (204-8) ...\r\n"
       ]
      },
      {
       "output_type": "stream",
       "stream": "stdout",
       "text": [
        "Selecting previously unselected package libdrm2:amd64.\r\n",
        "Preparing to unpack .../libdrm2_2.4.52-1_amd64.deb ...\r\n"
       ]
      },
      {
       "output_type": "stream",
       "stream": "stdout",
       "text": [
        "Unpacking libdrm2:amd64 (2.4.52-1) ...\r\n"
       ]
      },
      {
       "output_type": "stream",
       "stream": "stdout",
       "text": [
        "Selecting previously unselected package libglapi-mesa:amd64.\r\n",
        "Preparing to unpack .../libglapi-mesa_10.1.0-5_amd64.deb ...\r\n",
        "Unpacking libglapi-mesa:amd64 (10.1.0-5) ...\r\n"
       ]
      },
      {
       "output_type": "stream",
       "stream": "stdout",
       "text": [
        "Selecting previously unselected package libllvm3.4:amd64.\r\n",
        "Preparing to unpack .../libllvm3.4_1%3a3.4-2_amd64.deb ...\r\n",
        "Unpacking libllvm3.4:amd64 (1:3.4-2) ...\r\n"
       ]
      },
      {
       "output_type": "stream",
       "stream": "stdout",
       "text": [
        "Selecting previously unselected package libwayland-client0:amd64.\r\n",
        "Preparing to unpack .../libwayland-client0_1.4.0-1_amd64.deb ...\r\n"
       ]
      },
      {
       "output_type": "stream",
       "stream": "stdout",
       "text": [
        "Unpacking libwayland-client0:amd64 (1.4.0-1) ...\r\n"
       ]
      },
      {
       "output_type": "stream",
       "stream": "stdout",
       "text": [
        "Selecting previously unselected package libwayland-server0:amd64.\r\n",
        "Preparing to unpack .../libwayland-server0_1.4.0-1_amd64.deb ...\r\n"
       ]
      },
      {
       "output_type": "stream",
       "stream": "stdout",
       "text": [
        "Unpacking libwayland-server0:amd64 (1.4.0-1) ...\r\n"
       ]
      },
      {
       "output_type": "stream",
       "stream": "stdout",
       "text": [
        "Selecting previously unselected package libxcb-dri2-0:amd64.\r\n",
        "Preparing to unpack .../libxcb-dri2-0_1.10-2_amd64.deb ...\r\n"
       ]
      },
      {
       "output_type": "stream",
       "stream": "stdout",
       "text": [
        "Unpacking libxcb-dri2-0:amd64 (1.10-2) ...\r\n"
       ]
      },
      {
       "output_type": "stream",
       "stream": "stdout",
       "text": [
        "Selecting previously unselected package libgbm1:amd64.\r\n",
        "Preparing to unpack .../libgbm1_10.1.0-5_amd64.deb ...\r\n",
        "Unpacking libgbm1:amd64 (10.1.0-5) ...\r\n"
       ]
      },
      {
       "output_type": "stream",
       "stream": "stdout",
       "text": [
        "Selecting previously unselected package libx11-xcb1:amd64.\r\n",
        "Preparing to unpack .../libx11-xcb1_2%3a1.6.2-1_amd64.deb ...\r\n",
        "Unpacking libx11-xcb1:amd64 (2:1.6.2-1) ...\r\n"
       ]
      },
      {
       "output_type": "stream",
       "stream": "stdout",
       "text": [
        "Selecting previously unselected package libxcb-render0:amd64.\r\n",
        "Preparing to unpack .../libxcb-render0_1.10-2_amd64.deb ...\r\n"
       ]
      },
      {
       "output_type": "stream",
       "stream": "stdout",
       "text": [
        "Unpacking libxcb-render0:amd64 (1.10-2) ...\r\n"
       ]
      },
      {
       "output_type": "stream",
       "stream": "stdout",
       "text": [
        "Selecting previously unselected package libxcb-shape0:amd64.\r\n",
        "Preparing to unpack .../libxcb-shape0_1.10-2_amd64.deb ...\r\n"
       ]
      },
      {
       "output_type": "stream",
       "stream": "stdout",
       "text": [
        "Unpacking libxcb-shape0:amd64 (1.10-2) ...\r\n"
       ]
      },
      {
       "output_type": "stream",
       "stream": "stdout",
       "text": [
        "Selecting previously unselected package libxcb-xfixes0:amd64.\r\n",
        "Preparing to unpack .../libxcb-xfixes0_1.10-2_amd64.deb ...\r\n",
        "Unpacking libxcb-xfixes0:amd64 (1.10-2) ...\r\n"
       ]
      },
      {
       "output_type": "stream",
       "stream": "stdout",
       "text": [
        "Selecting previously unselected package libegl1-mesa:amd64.\r\n",
        "Preparing to unpack .../libegl1-mesa_10.1.0-5_amd64.deb ...\r\n"
       ]
      },
      {
       "output_type": "stream",
       "stream": "stdout",
       "text": [
        "Unpacking libegl1-mesa:amd64 (10.1.0-5) ...\r\n"
       ]
      },
      {
       "output_type": "stream",
       "stream": "stdout",
       "text": [
        "Selecting previously unselected package libpng12-0:amd64.\r\n",
        "Preparing to unpack .../libpng12-0_1.2.50-1_amd64.deb ...\r\n",
        "Unpacking libpng12-0:amd64 (1.2.50-1) ...\r\n"
       ]
      },
      {
       "output_type": "stream",
       "stream": "stdout",
       "text": [
        "Selecting previously unselected package libfreetype6:amd64.\r\n",
        "Preparing to unpack .../libfreetype6_2.5.2-1_amd64.deb ...\r\n",
        "Unpacking libfreetype6:amd64 (2.5.2-1) ...\r\n"
       ]
      },
      {
       "output_type": "stream",
       "stream": "stdout",
       "text": [
        "Selecting previously unselected package ucf.\r\n",
        "Preparing to unpack .../ucf_3.0027+nmu1_all.deb ...\r\n"
       ]
      },
      {
       "output_type": "stream",
       "stream": "stdout",
       "text": [
        "Moving old data out of the way\r\n",
        "Unpacking ucf (3.0027+nmu1) ...\r\n"
       ]
      },
      {
       "output_type": "stream",
       "stream": "stdout",
       "text": [
        "Selecting previously unselected package fonts-dejavu-core.\r\n",
        "Preparing to unpack .../fonts-dejavu-core_2.34-1_all.deb ...\r\n"
       ]
      },
      {
       "output_type": "stream",
       "stream": "stdout",
       "text": [
        "Unpacking fonts-dejavu-core (2.34-1) ...\r\n"
       ]
      },
      {
       "output_type": "stream",
       "stream": "stdout",
       "text": [
        "Selecting previously unselected package fonts-liberation.\r\n",
        "Preparing to unpack .../fonts-liberation_1.07.3-3_all.deb ...\r\n"
       ]
      },
      {
       "output_type": "stream",
       "stream": "stdout",
       "text": [
        "Unpacking fonts-liberation (1.07.3-3) ...\r\n"
       ]
      },
      {
       "output_type": "stream",
       "stream": "stdout",
       "text": [
        "Selecting previously unselected package fontconfig-config.\r\n",
        "Preparing to unpack .../fontconfig-config_2.11.0-2_all.deb ...\r\n"
       ]
      },
      {
       "output_type": "stream",
       "stream": "stdout",
       "text": [
        "Unpacking fontconfig-config (2.11.0-2) ...\r\n"
       ]
      },
      {
       "output_type": "stream",
       "stream": "stdout",
       "text": [
        "Selecting previously unselected package libfontconfig1:amd64.\r\n",
        "Preparing to unpack .../libfontconfig1_2.11.0-2_amd64.deb ...\r\n",
        "Unpacking libfontconfig1:amd64 (2.11.0-2) ...\r\n"
       ]
      },
      {
       "output_type": "stream",
       "stream": "stdout",
       "text": [
        "Selecting previously unselected package libxcb-dri3-0:amd64.\r\n",
        "Preparing to unpack .../libxcb-dri3-0_1.10-2_amd64.deb ...\r\n",
        "Unpacking libxcb-dri3-0:amd64 (1.10-2) ...\r\n"
       ]
      },
      {
       "output_type": "stream",
       "stream": "stdout",
       "text": [
        "Selecting previously unselected package libxcb-glx0:amd64.\r\n",
        "Preparing to unpack .../libxcb-glx0_1.10-2_amd64.deb ...\r\n"
       ]
      },
      {
       "output_type": "stream",
       "stream": "stdout",
       "text": [
        "Unpacking libxcb-glx0:amd64 (1.10-2) ...\r\n"
       ]
      },
      {
       "output_type": "stream",
       "stream": "stdout",
       "text": [
        "Selecting previously unselected package libxcb-present0:amd64.\r\n",
        "Preparing to unpack .../libxcb-present0_1.10-2_amd64.deb ...\r\n"
       ]
      },
      {
       "output_type": "stream",
       "stream": "stdout",
       "text": [
        "Unpacking libxcb-present0:amd64 (1.10-2) ...\r\n"
       ]
      },
      {
       "output_type": "stream",
       "stream": "stdout",
       "text": [
        "Selecting previously unselected package libxcb-sync1:amd64.\r\n",
        "Preparing to unpack .../libxcb-sync1_1.10-2_amd64.deb ...\r\n",
        "Unpacking libxcb-sync1:amd64 (1.10-2) ...\r\n"
       ]
      },
      {
       "output_type": "stream",
       "stream": "stdout",
       "text": [
        "Selecting previously unselected package libxfixes3:amd64.\r\n",
        "Preparing to unpack .../libxfixes3_1%3a5.0.1-1_amd64.deb ...\r\n"
       ]
      },
      {
       "output_type": "stream",
       "stream": "stdout",
       "text": [
        "Unpacking libxfixes3:amd64 (1:5.0.1-1) ...\r\n"
       ]
      },
      {
       "output_type": "stream",
       "stream": "stdout",
       "text": [
        "Selecting previously unselected package libxdamage1:amd64.\r\n",
        "Preparing to unpack .../libxdamage1_1%3a1.1.4-1_amd64.deb ...\r\n",
        "Unpacking libxdamage1:amd64 (1:1.1.4-1) ...\r\n"
       ]
      },
      {
       "output_type": "stream",
       "stream": "stdout",
       "text": [
        "Selecting previously unselected package libxshmfence1:amd64.\r\n",
        "Preparing to unpack .../libxshmfence1_1.1-2_amd64.deb ...\r\n"
       ]
      },
      {
       "output_type": "stream",
       "stream": "stdout",
       "text": [
        "Unpacking libxshmfence1:amd64 (1.1-2) ...\r\n"
       ]
      },
      {
       "output_type": "stream",
       "stream": "stdout",
       "text": [
        "Selecting previously unselected package libxxf86vm1:amd64.\r\n",
        "Preparing to unpack .../libxxf86vm1_1%3a1.1.3-1_amd64.deb ...\r\n"
       ]
      },
      {
       "output_type": "stream",
       "stream": "stdout",
       "text": [
        "Unpacking libxxf86vm1:amd64 (1:1.1.3-1) ...\r\n"
       ]
      },
      {
       "output_type": "stream",
       "stream": "stdout",
       "text": [
        "Selecting previously unselected package libgl1-mesa-glx:amd64.\r\n",
        "Preparing to unpack .../libgl1-mesa-glx_10.1.0-5_amd64.deb ...\r\n"
       ]
      },
      {
       "output_type": "stream",
       "stream": "stdout",
       "text": [
        "Unpacking libgl1-mesa-glx:amd64 (10.1.0-5) ...\r\n"
       ]
      },
      {
       "output_type": "stream",
       "stream": "stdout",
       "text": [
        "Selecting previously unselected package libpixman-1-0:amd64.\r\n",
        "Preparing to unpack .../libpixman-1-0_0.32.4-1_amd64.deb ...\r\n",
        "Unpacking libpixman-1-0:amd64 (0.32.4-1) ...\r\n"
       ]
      },
      {
       "output_type": "stream",
       "stream": "stdout",
       "text": [
        "Selecting previously unselected package libxcb-shm0:amd64.\r\n",
        "Preparing to unpack .../libxcb-shm0_1.10-2_amd64.deb ...\r\n",
        "Unpacking libxcb-shm0:amd64 (1.10-2) ...\r\n"
       ]
      },
      {
       "output_type": "stream",
       "stream": "stdout",
       "text": [
        "Selecting previously unselected package libxrender1:amd64.\r\n",
        "Preparing to unpack .../libxrender1_1%3a0.9.8-1_amd64.deb ...\r\n"
       ]
      },
      {
       "output_type": "stream",
       "stream": "stdout",
       "text": [
        "Unpacking libxrender1:amd64 (1:0.9.8-1) ...\r\n"
       ]
      },
      {
       "output_type": "stream",
       "stream": "stdout",
       "text": [
        "Selecting previously unselected package libcairo2:amd64.\r\n",
        "Preparing to unpack .../libcairo2_1.12.16-2_amd64.deb ...\r\n",
        "Unpacking libcairo2:amd64 (1.12.16-2) ...\r\n"
       ]
      },
      {
       "output_type": "stream",
       "stream": "stdout",
       "text": [
        "Selecting previously unselected package libdatrie1:amd64.\r\n",
        "Preparing to unpack .../libdatrie1_0.2.8-1_amd64.deb ...\r\n"
       ]
      },
      {
       "output_type": "stream",
       "stream": "stdout",
       "text": [
        "Unpacking libdatrie1:amd64 (0.2.8-1) ...\r\n"
       ]
      },
      {
       "output_type": "stream",
       "stream": "stdout",
       "text": [
        "Selecting previously unselected package libpciaccess0:amd64.\r\n"
       ]
      },
      {
       "output_type": "stream",
       "stream": "stdout",
       "text": [
        "Preparing to unpack .../libpciaccess0_0.13.2-1_amd64.deb ...\r\n",
        "Unpacking libpciaccess0:amd64 (0.13.2-1) ...\r\n"
       ]
      },
      {
       "output_type": "stream",
       "stream": "stdout",
       "text": [
        "Selecting previously unselected package libdrm-intel1:amd64.\r\n",
        "Preparing to unpack .../libdrm-intel1_2.4.52-1_amd64.deb ...\r\n"
       ]
      },
      {
       "output_type": "stream",
       "stream": "stdout",
       "text": [
        "Unpacking libdrm-intel1:amd64 (2.4.52-1) ...\r\n"
       ]
      },
      {
       "output_type": "stream",
       "stream": "stdout",
       "text": [
        "Selecting previously unselected package libdrm-nouveau2:amd64.\r\n",
        "Preparing to unpack .../libdrm-nouveau2_2.4.52-1_amd64.deb ...\r\n",
        "Unpacking libdrm-nouveau2:amd64 (2.4.52-1) ...\r\n"
       ]
      },
      {
       "output_type": "stream",
       "stream": "stdout",
       "text": [
        "Selecting previously unselected package libdrm-radeon1:amd64.\r\n",
        "Preparing to unpack .../libdrm-radeon1_2.4.52-1_amd64.deb ...\r\n"
       ]
      },
      {
       "output_type": "stream",
       "stream": "stdout",
       "text": [
        "Unpacking libdrm-radeon1:amd64 (2.4.52-1) ...\r\n"
       ]
      },
      {
       "output_type": "stream",
       "stream": "stdout",
       "text": [
        "Selecting previously unselected package libelf1:amd64.\r\n",
        "Preparing to unpack .../libelf1_0.157-3_amd64.deb ...\r\n"
       ]
      },
      {
       "output_type": "stream",
       "stream": "stdout",
       "text": [
        "Unpacking libelf1:amd64 (0.157-3) ...\r\n"
       ]
      },
      {
       "output_type": "stream",
       "stream": "stdout",
       "text": [
        "Selecting previously unselected package libopenvg1-mesa:amd64.\r\n",
        "Preparing to unpack .../libopenvg1-mesa_10.1.0-5_amd64.deb ...\r\n"
       ]
      },
      {
       "output_type": "stream",
       "stream": "stdout",
       "text": [
        "Unpacking libopenvg1-mesa:amd64 (10.1.0-5) ...\r\n"
       ]
      },
      {
       "output_type": "stream",
       "stream": "stdout",
       "text": [
        "Selecting previously unselected package libwayland-egl1-mesa:amd64.\r\n",
        "Preparing to unpack .../libwayland-egl1-mesa_10.1.0-5_amd64.deb ...\r\n"
       ]
      },
      {
       "output_type": "stream",
       "stream": "stdout",
       "text": [
        "Unpacking libwayland-egl1-mesa:amd64 (10.1.0-5) ...\r\n"
       ]
      },
      {
       "output_type": "stream",
       "stream": "stdout",
       "text": [
        "Selecting previously unselected package libegl1-mesa-drivers:amd64.\r\n",
        "Preparing to unpack .../libegl1-mesa-drivers_10.1.0-5_amd64.deb ...\r\n",
        "Unpacking libegl1-mesa-drivers:amd64 (10.1.0-5) ...\r\n"
       ]
      },
      {
       "output_type": "stream",
       "stream": "stdout",
       "text": [
        "Selecting previously unselected package libjpeg8:amd64.\r\n",
        "Preparing to unpack .../libjpeg8_8d-2_amd64.deb ...\r\n"
       ]
      },
      {
       "output_type": "stream",
       "stream": "stdout",
       "text": [
        "Unpacking libjpeg8:amd64 (8d-2) ...\r\n"
       ]
      },
      {
       "output_type": "stream",
       "stream": "stdout",
       "text": [
        "Selecting previously unselected package libjbig0:amd64.\r\n",
        "Preparing to unpack .../libjbig0_2.0-2_amd64.deb ...\r\n",
        "Unpacking libjbig0:amd64 (2.0-2) ...\r\n"
       ]
      },
      {
       "output_type": "stream",
       "stream": "stdout",
       "text": [
        "Selecting previously unselected package libtiff5:amd64.\r\n",
        "Preparing to unpack .../libtiff5_4.0.3-8_amd64.deb ...\r\n"
       ]
      },
      {
       "output_type": "stream",
       "stream": "stdout",
       "text": [
        "Unpacking libtiff5:amd64 (4.0.3-8) ...\r\n"
       ]
      },
      {
       "output_type": "stream",
       "stream": "stdout",
       "text": [
        "Selecting previously unselected package libvpx1:amd64.\r\n",
        "Preparing to unpack .../libvpx1_1.3.0-2_amd64.deb ...\r\n",
        "Unpacking libvpx1:amd64 (1.3.0-2) ...\r\n"
       ]
      },
      {
       "output_type": "stream",
       "stream": "stdout",
       "text": [
        "Selecting previously unselected package libxpm4:amd64.\r\n",
        "Preparing to unpack .../libxpm4_1%3a3.5.10-1_amd64.deb ...\r\n",
        "Unpacking libxpm4:amd64 (1:3.5.10-1) ...\r\n"
       ]
      },
      {
       "output_type": "stream",
       "stream": "stdout",
       "text": [
        "Selecting previously unselected package libgd3:amd64.\r\n",
        "Preparing to unpack .../libgd3_2.1.0-3+b1_amd64.deb ...\r\n",
        "Unpacking libgd3:amd64 (2.1.0-3+b1) ...\r\n"
       ]
      },
      {
       "output_type": "stream",
       "stream": "stdout",
       "text": [
        "Selecting previously unselected package libgl1-mesa-dri:amd64.\r\n",
        "Preparing to unpack .../libgl1-mesa-dri_10.1.0-5_amd64.deb ...\r\n",
        "Unpacking libgl1-mesa-dri:amd64 (10.1.0-5) ...\r\n"
       ]
      },
      {
       "output_type": "stream",
       "stream": "stdout",
       "text": [
        "Selecting previously unselected package libglib2.0-0:amd64.\r\n",
        "Preparing to unpack .../libglib2.0-0_2.40.0-2_amd64.deb ...\r\n",
        "Unpacking libglib2.0-0:amd64 (2.40.0-2) ...\r\n"
       ]
      },
      {
       "output_type": "stream",
       "stream": "stdout",
       "text": [
        "Selecting previously unselected package libgraphite2-3:amd64.\r\n",
        "Preparing to unpack .../libgraphite2-3_1.2.4-2_amd64.deb ...\r\n",
        "Unpacking libgraphite2-3:amd64 (1.2.4-2) ...\r\n"
       ]
      },
      {
       "output_type": "stream",
       "stream": "stdout",
       "text": [
        "Selecting previously unselected package libharfbuzz0b:amd64.\r\n",
        "Preparing to unpack .../libharfbuzz0b_0.9.27-1_amd64.deb ...\r\n"
       ]
      },
      {
       "output_type": "stream",
       "stream": "stdout",
       "text": [
        "Unpacking libharfbuzz0b:amd64 (0.9.27-1) ...\r\n"
       ]
      },
      {
       "output_type": "stream",
       "stream": "stdout",
       "text": [
        "Selecting previously unselected package x11-common.\r\n",
        "Preparing to unpack .../x11-common_1%3a7.7+7_all.deb ...\r\n"
       ]
      },
      {
       "output_type": "stream",
       "stream": "stdout",
       "text": [
        "Unpacking x11-common (1:7.7+7) ...\r\n"
       ]
      },
      {
       "output_type": "stream",
       "stream": "stdout",
       "text": [
        "Selecting previously unselected package libice6:amd64.\r\n",
        "Preparing to unpack .../libice6_2%3a1.0.8-2_amd64.deb ...\r\n",
        "Unpacking libice6:amd64 (2:1.0.8-2) ...\r\n"
       ]
      },
      {
       "output_type": "stream",
       "stream": "stdout",
       "text": [
        "Selecting previously unselected package libltdl7:amd64.\r\n"
       ]
      },
      {
       "output_type": "stream",
       "stream": "stdout",
       "text": [
        "Preparing to unpack .../libltdl7_2.4.2-1.7_amd64.deb ...\r\n",
        "Unpacking libltdl7:amd64 (2.4.2-1.7) ...\r\n"
       ]
      },
      {
       "output_type": "stream",
       "stream": "stdout",
       "text": [
        "Selecting previously unselected package libthai-data.\r\n",
        "Preparing to unpack .../libthai-data_0.1.20-3_all.deb ...\r\n"
       ]
      },
      {
       "output_type": "stream",
       "stream": "stdout",
       "text": [
        "Unpacking libthai-data (0.1.20-3) ...\r\n"
       ]
      },
      {
       "output_type": "stream",
       "stream": "stdout",
       "text": [
        "Selecting previously unselected package libthai0:amd64.\r\n",
        "Preparing to unpack .../libthai0_0.1.20-3_amd64.deb ...\r\n",
        "Unpacking libthai0:amd64 (0.1.20-3) ...\r\n"
       ]
      },
      {
       "output_type": "stream",
       "stream": "stdout",
       "text": [
        "Selecting previously unselected package fontconfig.\r\n",
        "Preparing to unpack .../fontconfig_2.11.0-2_amd64.deb ...\r\n",
        "Unpacking fontconfig (2.11.0-2) ...\r\n"
       ]
      },
      {
       "output_type": "stream",
       "stream": "stdout",
       "text": [
        "Selecting previously unselected package libpango-1.0-0:amd64.\r\n",
        "Preparing to unpack .../libpango-1.0-0_1.36.3-1_amd64.deb ...\r\n",
        "Unpacking libpango-1.0-0:amd64 (1.36.3-1) ...\r\n"
       ]
      },
      {
       "output_type": "stream",
       "stream": "stdout",
       "text": [
        "Selecting previously unselected package libpangoft2-1.0-0:amd64.\r\n",
        "Preparing to unpack .../libpangoft2-1.0-0_1.36.3-1_amd64.deb ...\r\n"
       ]
      },
      {
       "output_type": "stream",
       "stream": "stdout",
       "text": [
        "Unpacking libpangoft2-1.0-0:amd64 (1.36.3-1) ...\r\n"
       ]
      },
      {
       "output_type": "stream",
       "stream": "stdout",
       "text": [
        "Selecting previously unselected package libpangocairo-1.0-0:amd64.\r\n",
        "Preparing to unpack .../libpangocairo-1.0-0_1.36.3-1_amd64.deb ...\r\n",
        "Unpacking libpangocairo-1.0-0:amd64 (1.36.3-1) ...\r\n"
       ]
      },
      {
       "output_type": "stream",
       "stream": "stdout",
       "text": [
        "Selecting previously unselected package libsm6:amd64.\r\n",
        "Preparing to unpack .../libsm6_2%3a1.2.1-2_amd64.deb ...\r\n"
       ]
      },
      {
       "output_type": "stream",
       "stream": "stdout",
       "text": [
        "Unpacking libsm6:amd64 (2:1.2.1-2) ...\r\n"
       ]
      },
      {
       "output_type": "stream",
       "stream": "stdout",
       "text": [
        "Selecting previously unselected package libxt6:amd64.\r\n",
        "Preparing to unpack .../libxt6_1%3a1.1.4-1_amd64.deb ...\r\n"
       ]
      },
      {
       "output_type": "stream",
       "stream": "stdout",
       "text": [
        "Unpacking libxt6:amd64 (1:1.1.4-1) ...\r\n"
       ]
      },
      {
       "output_type": "stream",
       "stream": "stdout",
       "text": [
        "Selecting previously unselected package libxmu6:amd64.\r\n",
        "Preparing to unpack .../libxmu6_2%3a1.1.1-1_amd64.deb ...\r\n",
        "Unpacking libxmu6:amd64 (2:1.1.1-1) ...\r\n"
       ]
      },
      {
       "output_type": "stream",
       "stream": "stdout",
       "text": [
        "Selecting previously unselected package libxaw7:amd64.\r\n",
        "Preparing to unpack .../libxaw7_2%3a1.0.12-1_amd64.deb ...\r\n",
        "Unpacking libxaw7:amd64 (2:1.0.12-1) ...\r\n"
       ]
      },
      {
       "output_type": "stream",
       "stream": "stdout",
       "text": [
        "Selecting previously unselected package libtxc-dxtn-s2tc0:amd64.\r\n",
        "Preparing to unpack .../libtxc-dxtn-s2tc0_0~git20131104-1.1_amd64.deb ...\r\n"
       ]
      },
      {
       "output_type": "stream",
       "stream": "stdout",
       "text": [
        "Unpacking libtxc-dxtn-s2tc0:amd64 (0~git20131104-1.1) ...\r\n"
       ]
      },
      {
       "output_type": "stream",
       "stream": "stdout",
       "text": [
        "Selecting previously unselected package libcdt4.\r\n",
        "Preparing to unpack .../libcdt4_2.26.3-16.2_amd64.deb ...\r\n",
        "Unpacking libcdt4 (2.26.3-16.2) ...\r\n"
       ]
      },
      {
       "output_type": "stream",
       "stream": "stdout",
       "text": [
        "Selecting previously unselected package libcgraph5.\r\n",
        "Preparing to unpack .../libcgraph5_2.26.3-16.2_amd64.deb ...\r\n",
        "Unpacking libcgraph5 (2.26.3-16.2) ...\r\n"
       ]
      },
      {
       "output_type": "stream",
       "stream": "stdout",
       "text": [
        "Selecting previously unselected package libgraph4.\r\n",
        "Preparing to unpack .../libgraph4_2.26.3-16.2_amd64.deb ...\r\n",
        "Unpacking libgraph4 (2.26.3-16.2) ...\r\n"
       ]
      },
      {
       "output_type": "stream",
       "stream": "stdout",
       "text": [
        "Selecting previously unselected package libpathplan4.\r\n",
        "Preparing to unpack .../libpathplan4_2.26.3-16.2_amd64.deb ...\r\n",
        "Unpacking libpathplan4 (2.26.3-16.2) ...\r\n"
       ]
      },
      {
       "output_type": "stream",
       "stream": "stdout",
       "text": [
        "Selecting previously unselected package libxdot4.\r\n",
        "Preparing to unpack .../libxdot4_2.26.3-16.2_amd64.deb ...\r\n",
        "Unpacking libxdot4 (2.26.3-16.2) ...\r\n"
       ]
      },
      {
       "output_type": "stream",
       "stream": "stdout",
       "text": [
        "Selecting previously unselected package libgvc5.\r\n",
        "Preparing to unpack .../libgvc5_2.26.3-16.2_amd64.deb ...\r\n",
        "Unpacking libgvc5 (2.26.3-16.2) ...\r\n"
       ]
      },
      {
       "output_type": "stream",
       "stream": "stdout",
       "text": [
        "Selecting previously unselected package libgvpr1.\r\n",
        "Preparing to unpack .../libgvpr1_2.26.3-16.2_amd64.deb ...\r\n"
       ]
      },
      {
       "output_type": "stream",
       "stream": "stdout",
       "text": [
        "Unpacking libgvpr1 (2.26.3-16.2) ...\r\n"
       ]
      },
      {
       "output_type": "stream",
       "stream": "stdout",
       "text": [
        "Selecting previously unselected package graphviz.\r\n",
        "Preparing to unpack .../graphviz_2.26.3-16.2_amd64.deb ...\r\n"
       ]
      },
      {
       "output_type": "stream",
       "stream": "stdout",
       "text": [
        "Unpacking graphviz (2.26.3-16.2) ...\r\n"
       ]
      },
      {
       "output_type": "stream",
       "stream": "stdout",
       "text": [
        "Selecting previously unselected package libglib2.0-data.\r\n"
       ]
      },
      {
       "output_type": "stream",
       "stream": "stdout",
       "text": [
        "Preparing to unpack .../libglib2.0-data_2.40.0-2_all.deb ...\r\n",
        "Unpacking libglib2.0-data (2.40.0-2) ...\r\n"
       ]
      },
      {
       "output_type": "stream",
       "stream": "stdout",
       "text": [
        "Selecting previously unselected package shared-mime-info.\r\n",
        "Preparing to unpack .../shared-mime-info_1.2-1_amd64.deb ...\r\n"
       ]
      },
      {
       "output_type": "stream",
       "stream": "stdout",
       "text": [
        "Unpacking shared-mime-info (1.2-1) ...\r\n"
       ]
      },
      {
       "output_type": "stream",
       "stream": "stdout",
       "text": [
        "Selecting previously unselected package ttf-liberation.\r\n",
        "Preparing to unpack .../ttf-liberation_1.07.3-3_all.deb ...\r\n"
       ]
      },
      {
       "output_type": "stream",
       "stream": "stdout",
       "text": [
        "Unpacking ttf-liberation (1.07.3-3) ...\r\n"
       ]
      },
      {
       "output_type": "stream",
       "stream": "stdout",
       "text": [
        "Setting up libudev1:amd64 (204-8) ...\r\n"
       ]
      },
      {
       "output_type": "stream",
       "stream": "stdout",
       "text": [
        "Setting up libdrm2:amd64 (2.4.52-1) ...\r\n"
       ]
      },
      {
       "output_type": "stream",
       "stream": "stdout",
       "text": [
        "Setting up libglapi-mesa:amd64 (10.1.0-5) ...\r\n"
       ]
      },
      {
       "output_type": "stream",
       "stream": "stdout",
       "text": [
        "Setting up libllvm3.4:amd64 (1:3.4-2) ...\r\n"
       ]
      },
      {
       "output_type": "stream",
       "stream": "stdout",
       "text": [
        "Setting up libwayland-client0:amd64 (1.4.0-1) ...\r\n"
       ]
      },
      {
       "output_type": "stream",
       "stream": "stdout",
       "text": [
        "Setting up libwayland-server0:amd64 (1.4.0-1) ...\r\n"
       ]
      },
      {
       "output_type": "stream",
       "stream": "stdout",
       "text": [
        "Setting up libxcb-dri2-0:amd64 (1.10-2) ...\r\n"
       ]
      },
      {
       "output_type": "stream",
       "stream": "stdout",
       "text": [
        "Setting up libgbm1:amd64 (10.1.0-5) ...\r\n"
       ]
      },
      {
       "output_type": "stream",
       "stream": "stdout",
       "text": [
        "Setting up libx11-xcb1:amd64 (2:1.6.2-1) ...\r\n"
       ]
      },
      {
       "output_type": "stream",
       "stream": "stdout",
       "text": [
        "Setting up libxcb-render0:amd64 (1.10-2) ...\r\n"
       ]
      },
      {
       "output_type": "stream",
       "stream": "stdout",
       "text": [
        "Setting up libxcb-shape0:amd64 (1.10-2) ...\r\n"
       ]
      },
      {
       "output_type": "stream",
       "stream": "stdout",
       "text": [
        "Setting up libxcb-xfixes0:amd64 (1.10-2) ...\r\n"
       ]
      },
      {
       "output_type": "stream",
       "stream": "stdout",
       "text": [
        "Setting up libegl1-mesa:amd64 (10.1.0-5) ...\r\n"
       ]
      },
      {
       "output_type": "stream",
       "stream": "stdout",
       "text": [
        "Setting up libpng12-0:amd64 (1.2.50-1) ...\r\n"
       ]
      },
      {
       "output_type": "stream",
       "stream": "stdout",
       "text": [
        "Setting up libfreetype6:amd64 (2.5.2-1) ...\r\n"
       ]
      },
      {
       "output_type": "stream",
       "stream": "stdout",
       "text": [
        "Setting up ucf (3.0027+nmu1) ...\r\n"
       ]
      },
      {
       "output_type": "stream",
       "stream": "stdout",
       "text": [
        "debconf: unable to initialize frontend: Dialog\r\n",
        "debconf: (No usable dialog-like program is installed, so the dialog based frontend cannot be used. at /usr/share/perl5/Debconf/FrontEnd/Dialog.pm line 76.)\r\n",
        "debconf: falling back to frontend: Readline\r\n"
       ]
      },
      {
       "output_type": "stream",
       "stream": "stdout",
       "text": [
        "Setting up fonts-dejavu-core (2.34-1) ...\r\n"
       ]
      },
      {
       "output_type": "stream",
       "stream": "stdout",
       "text": [
        "Setting up fonts-liberation (1.07.3-3) ...\r\n"
       ]
      },
      {
       "output_type": "stream",
       "stream": "stdout",
       "text": [
        "Setting up fontconfig-config (2.11.0-2) ...\r\n"
       ]
      },
      {
       "output_type": "stream",
       "stream": "stdout",
       "text": [
        "debconf: unable to initialize frontend: Dialog\r\n",
        "debconf: (No usable dialog-like program is installed, so the dialog based frontend cannot be used. at /usr/share/perl5/Debconf/FrontEnd/Dialog.pm line 76.)\r\n",
        "debconf: falling back to frontend: Readline\r\n"
       ]
      },
      {
       "output_type": "stream",
       "stream": "stdout",
       "text": [
        "Setting up libfontconfig1:amd64 (2.11.0-2) ...\r\n"
       ]
      },
      {
       "output_type": "stream",
       "stream": "stdout",
       "text": [
        "Setting up libxcb-dri3-0:amd64 (1.10-2) ...\r\n"
       ]
      },
      {
       "output_type": "stream",
       "stream": "stdout",
       "text": [
        "Setting up libxcb-glx0:amd64 (1.10-2) ...\r\n"
       ]
      },
      {
       "output_type": "stream",
       "stream": "stdout",
       "text": [
        "Setting up libxcb-present0:amd64 (1.10-2) ...\r\n"
       ]
      },
      {
       "output_type": "stream",
       "stream": "stdout",
       "text": [
        "Setting up libxcb-sync1:amd64 (1.10-2) ...\r\n"
       ]
      },
      {
       "output_type": "stream",
       "stream": "stdout",
       "text": [
        "Setting up libxfixes3:amd64 (1:5.0.1-1) ...\r\n"
       ]
      },
      {
       "output_type": "stream",
       "stream": "stdout",
       "text": [
        "Setting up libxdamage1:amd64 (1:1.1.4-1) ...\r\n"
       ]
      },
      {
       "output_type": "stream",
       "stream": "stdout",
       "text": [
        "Setting up libxshmfence1:amd64 (1.1-2) ...\r\n"
       ]
      },
      {
       "output_type": "stream",
       "stream": "stdout",
       "text": [
        "Setting up libxxf86vm1:amd64 (1:1.1.3-1) ...\r\n"
       ]
      },
      {
       "output_type": "stream",
       "stream": "stdout",
       "text": [
        "Setting up libgl1-mesa-glx:amd64 (10.1.0-5) ...\r\n"
       ]
      },
      {
       "output_type": "stream",
       "stream": "stdout",
       "text": [
        "Setting up libpixman-1-0:amd64 (0.32.4-1) ...\r\n"
       ]
      },
      {
       "output_type": "stream",
       "stream": "stdout",
       "text": [
        "Setting up libxcb-shm0:amd64 (1.10-2) ...\r\n"
       ]
      },
      {
       "output_type": "stream",
       "stream": "stdout",
       "text": [
        "Setting up libxrender1:amd64 (1:0.9.8-1) ...\r\n"
       ]
      },
      {
       "output_type": "stream",
       "stream": "stdout",
       "text": [
        "Setting up libcairo2:amd64 (1.12.16-2) ...\r\n"
       ]
      },
      {
       "output_type": "stream",
       "stream": "stdout",
       "text": [
        "Setting up libdatrie1:amd64 (0.2.8-1) ...\r\n"
       ]
      },
      {
       "output_type": "stream",
       "stream": "stdout",
       "text": [
        "Setting up libpciaccess0:amd64 (0.13.2-1) ...\r\n"
       ]
      },
      {
       "output_type": "stream",
       "stream": "stdout",
       "text": [
        "Setting up libdrm-intel1:amd64 (2.4.52-1) ...\r\n"
       ]
      },
      {
       "output_type": "stream",
       "stream": "stdout",
       "text": [
        "Setting up libdrm-nouveau2:amd64 (2.4.52-1) ...\r\n"
       ]
      },
      {
       "output_type": "stream",
       "stream": "stdout",
       "text": [
        "Setting up libdrm-radeon1:amd64 (2.4.52-1) ...\r\n"
       ]
      },
      {
       "output_type": "stream",
       "stream": "stdout",
       "text": [
        "Setting up libelf1:amd64 (0.157-3) ...\r\n"
       ]
      },
      {
       "output_type": "stream",
       "stream": "stdout",
       "text": [
        "Setting up libopenvg1-mesa:amd64 (10.1.0-5) ...\r\n"
       ]
      },
      {
       "output_type": "stream",
       "stream": "stdout",
       "text": [
        "Setting up libwayland-egl1-mesa:amd64 (10.1.0-5) ...\r\n"
       ]
      },
      {
       "output_type": "stream",
       "stream": "stdout",
       "text": [
        "Setting up libegl1-mesa-drivers:amd64 (10.1.0-5) ...\r\n"
       ]
      },
      {
       "output_type": "stream",
       "stream": "stdout",
       "text": [
        "Setting up libjpeg8:amd64 (8d-2) ...\r\n"
       ]
      },
      {
       "output_type": "stream",
       "stream": "stdout",
       "text": [
        "Setting up libjbig0:amd64 (2.0-2) ...\r\n"
       ]
      },
      {
       "output_type": "stream",
       "stream": "stdout",
       "text": [
        "Setting up libtiff5:amd64 (4.0.3-8) ...\r\n"
       ]
      },
      {
       "output_type": "stream",
       "stream": "stdout",
       "text": [
        "Setting up libvpx1:amd64 (1.3.0-2) ...\r\n"
       ]
      },
      {
       "output_type": "stream",
       "stream": "stdout",
       "text": [
        "Setting up libxpm4:amd64 (1:3.5.10-1) ...\r\n"
       ]
      },
      {
       "output_type": "stream",
       "stream": "stdout",
       "text": [
        "Setting up libgd3:amd64 (2.1.0-3+b1) ...\r\n"
       ]
      },
      {
       "output_type": "stream",
       "stream": "stdout",
       "text": [
        "Setting up libgl1-mesa-dri:amd64 (10.1.0-5) ...\r\n"
       ]
      },
      {
       "output_type": "stream",
       "stream": "stdout",
       "text": [
        "Setting up libglib2.0-0:amd64 (2.40.0-2) ...\r\n"
       ]
      },
      {
       "output_type": "stream",
       "stream": "stdout",
       "text": [
        "No schema files found: doing nothing.\r\n"
       ]
      },
      {
       "output_type": "stream",
       "stream": "stdout",
       "text": [
        "Setting up libgraphite2-3:amd64 (1.2.4-2) ...\r\n"
       ]
      },
      {
       "output_type": "stream",
       "stream": "stdout",
       "text": [
        "Setting up libharfbuzz0b:amd64 (0.9.27-1) ...\r\n"
       ]
      },
      {
       "output_type": "stream",
       "stream": "stdout",
       "text": [
        "Setting up x11-common (1:7.7+7) ...\r\n"
       ]
      },
      {
       "output_type": "stream",
       "stream": "stdout",
       "text": [
        "debconf: unable to initialize frontend: Dialog\r\n",
        "debconf: (No usable dialog-like program is installed, so the dialog based frontend cannot be used. at /usr/share/perl5/Debconf/FrontEnd/Dialog.pm line 76.)\r\n",
        "debconf: falling back to frontend: Readline\r\n"
       ]
      },
      {
       "output_type": "stream",
       "stream": "stdout",
       "text": [
        "update-rc.d: warning: start and stop actions are no longer supported; falling back to defaults\r\n"
       ]
      },
      {
       "output_type": "stream",
       "stream": "stdout",
       "text": [
        "invoke-rc.d: policy-rc.d denied execution of start.\r\n"
       ]
      },
      {
       "output_type": "stream",
       "stream": "stdout",
       "text": [
        "Setting up libice6:amd64 (2:1.0.8-2) ...\r\n"
       ]
      },
      {
       "output_type": "stream",
       "stream": "stdout",
       "text": [
        "Setting up libltdl7:amd64 (2.4.2-1.7) ...\r\n"
       ]
      },
      {
       "output_type": "stream",
       "stream": "stdout",
       "text": [
        "Setting up libthai-data (0.1.20-3) ...\r\n"
       ]
      },
      {
       "output_type": "stream",
       "stream": "stdout",
       "text": [
        "Setting up libthai0:amd64 (0.1.20-3) ...\r\n"
       ]
      },
      {
       "output_type": "stream",
       "stream": "stdout",
       "text": [
        "Setting up fontconfig (2.11.0-2) ...\r\n"
       ]
      },
      {
       "output_type": "stream",
       "stream": "stdout",
       "text": [
        "Regenerating fonts cache... "
       ]
      },
      {
       "output_type": "stream",
       "stream": "stdout",
       "text": [
        "done.\r\n",
        "Setting up libpango-1.0-0:amd64 (1.36.3-1) ...\r\n"
       ]
      },
      {
       "output_type": "stream",
       "stream": "stdout",
       "text": [
        "Setting up libpangoft2-1.0-0:amd64 (1.36.3-1) ...\r\n"
       ]
      },
      {
       "output_type": "stream",
       "stream": "stdout",
       "text": [
        "Setting up libpangocairo-1.0-0:amd64 (1.36.3-1) ...\r\n"
       ]
      },
      {
       "output_type": "stream",
       "stream": "stdout",
       "text": [
        "Setting up libsm6:amd64 (2:1.2.1-2) ...\r\n"
       ]
      },
      {
       "output_type": "stream",
       "stream": "stdout",
       "text": [
        "Setting up libxt6:amd64 (1:1.1.4-1) ...\r\n"
       ]
      },
      {
       "output_type": "stream",
       "stream": "stdout",
       "text": [
        "Setting up libxmu6:amd64 (2:1.1.1-1) ...\r\n"
       ]
      },
      {
       "output_type": "stream",
       "stream": "stdout",
       "text": [
        "Setting up libxaw7:amd64 (2:1.0.12-1) ...\r\n"
       ]
      },
      {
       "output_type": "stream",
       "stream": "stdout",
       "text": [
        "Setting up libtxc-dxtn-s2tc0:amd64 (0~git20131104-1.1) ...\r\n"
       ]
      },
      {
       "output_type": "stream",
       "stream": "stdout",
       "text": [
        "update-alternatives: using /usr/lib/x86_64-linux-gnu/libtxc_dxtn_s2tc.so.0 to provide /usr/lib/x86_64-linux-gnu/libtxc_dxtn.so (libtxc-dxtn-x86_64-linux-gnu) in auto mode\r\n"
       ]
      },
      {
       "output_type": "stream",
       "stream": "stdout",
       "text": [
        "Setting up libcdt4 (2.26.3-16.2) ...\r\n"
       ]
      },
      {
       "output_type": "stream",
       "stream": "stdout",
       "text": [
        "Setting up libcgraph5 (2.26.3-16.2) ...\r\n"
       ]
      },
      {
       "output_type": "stream",
       "stream": "stdout",
       "text": [
        "Setting up libgraph4 (2.26.3-16.2) ...\r\n"
       ]
      },
      {
       "output_type": "stream",
       "stream": "stdout",
       "text": [
        "Setting up libpathplan4 (2.26.3-16.2) ...\r\n"
       ]
      },
      {
       "output_type": "stream",
       "stream": "stdout",
       "text": [
        "Setting up libxdot4 (2.26.3-16.2) ...\r\n"
       ]
      },
      {
       "output_type": "stream",
       "stream": "stdout",
       "text": [
        "Setting up libgvc5 (2.26.3-16.2) ...\r\n"
       ]
      },
      {
       "output_type": "stream",
       "stream": "stdout",
       "text": [
        "Setting up libgvpr1 (2.26.3-16.2) ...\r\n"
       ]
      },
      {
       "output_type": "stream",
       "stream": "stdout",
       "text": [
        "Setting up graphviz (2.26.3-16.2) ...\r\n"
       ]
      },
      {
       "output_type": "stream",
       "stream": "stdout",
       "text": [
        "Setting up libglib2.0-data (2.40.0-2) ...\r\n"
       ]
      },
      {
       "output_type": "stream",
       "stream": "stdout",
       "text": [
        "Setting up shared-mime-info (1.2-1) ...\r\n"
       ]
      },
      {
       "output_type": "stream",
       "stream": "stdout",
       "text": [
        "Setting up ttf-liberation (1.07.3-3) ...\r\n"
       ]
      },
      {
       "output_type": "stream",
       "stream": "stdout",
       "text": [
        "Processing triggers for libc-bin (2.18-4) ...\r\n"
       ]
      }
     ],
     "prompt_number": 20
    },
    {
     "cell_type": "markdown",
     "metadata": {},
     "source": [
      "The dot magic is bundled with this hierarchymagic which seems to require sphinx...."
     ]
    },
    {
     "cell_type": "code",
     "collapsed": false,
     "input": [
      "!pip install sphinx"
     ],
     "language": "python",
     "metadata": {},
     "outputs": [
      {
       "output_type": "stream",
       "stream": "stdout",
       "text": [
        "Requirement already satisfied (use --upgrade to upgrade): sphinx in /usr/local/lib/python2.7/dist-packages\r\n",
        "Requirement already satisfied (use --upgrade to upgrade): Pygments>=1.2 in /usr/local/lib/python2.7/dist-packages (from sphinx)\r\n",
        "Requirement already satisfied (use --upgrade to upgrade): docutils>=0.7 in /usr/local/lib/python2.7/dist-packages (from sphinx)\r\n",
        "Requirement already satisfied (use --upgrade to upgrade): Jinja2>=2.3 in /usr/local/lib/python2.7/dist-packages (from sphinx)\r\n",
        "Requirement already satisfied (use --upgrade to upgrade): markupsafe in /usr/local/lib/python2.7/dist-packages (from Jinja2>=2.3->sphinx)\r\n",
        "Cleaning up...\r\n"
       ]
      },
      {
       "output_type": "stream",
       "stream": "stdout",
       "text": [
        "/bin/sh: 1: sudo: not found\r\n"
       ]
      }
     ],
     "prompt_number": 18
    },
    {
     "cell_type": "markdown",
     "metadata": {},
     "source": [
      "Now we can install the hierarchymagic:"
     ]
    },
    {
     "cell_type": "code",
     "collapsed": false,
     "input": [
      "%install_ext https://raw.github.com/tkf/ipython-hierarchymagic/master/hierarchymagic.py"
     ],
     "language": "python",
     "metadata": {},
     "outputs": [
      {
       "output_type": "stream",
       "stream": "stdout",
       "text": [
        "Installed hierarchymagic.py. To use it, type:\n",
        "  %load_ext hierarchymagic\n"
       ]
      }
     ],
     "prompt_number": 10
    },
    {
     "cell_type": "code",
     "collapsed": false,
     "input": [
      "%load_ext hierarchymagic"
     ],
     "language": "python",
     "metadata": {},
     "outputs": [],
     "prompt_number": 16
    },
    {
     "cell_type": "markdown",
     "metadata": {},
     "source": [
      "And lo! GraphViz diagrams!"
     ]
    },
    {
     "cell_type": "code",
     "collapsed": false,
     "input": [
      "%%dot -f svg\n",
      "digraph DockerStates {\n",
      "    rankdir=LR;\n",
      "    no_image -> image [label=\"build\"];\n",
      "    no_image [label=\"\"];\n",
      "    no_image -> image [label=\"pull\"];\n",
      "    image -> no_image [label=\"rmi\"];\n",
      "    image -> attached [label=\"run\"];\n",
      "    attached -> running [label=\"ctrl-c\"];\n",
      "    running -> running [label=\"restart\"];\n",
      "    running -> stopped [label=\"stop\"];\n",
      "    stopped -> running [label=\"start\"];\n",
      "    stopped -> image [label=\"rm\"];\n",
      "}"
     ],
     "language": "python",
     "metadata": {},
     "outputs": [
      {
       "metadata": {},
       "output_type": "display_data",
       "svg": [
        "<?xml version=\"1.0\" encoding=\"UTF-8\" standalone=\"no\"?>\n",
        "<!DOCTYPE svg PUBLIC \"-//W3C//DTD SVG 1.1//EN\"\n",
        " \"http://www.w3.org/Graphics/SVG/1.1/DTD/svg11.dtd\">\n",
        "<!-- Generated by graphviz version 2.26.3 (20100126.1600)\n",
        " -->\n",
        "<!-- Title: DockerStates Pages: 1 -->\n",
        "<svg width=\"726pt\" height=\"118pt\"\n",
        " viewBox=\"0.00 0.00 726.00 118.08\" xmlns=\"http://www.w3.org/2000/svg\" xmlns:xlink=\"http://www.w3.org/1999/xlink\">\n",
        "<g id=\"graph1\" class=\"graph\" transform=\"scale(1 1) rotate(0) translate(4 114.076)\">\n",
        "<title>DockerStates</title>\n",
        "<polygon fill=\"white\" stroke=\"white\" points=\"-4,5 -4,-114.076 723,-114.076 723,5 -4,5\"/>\n",
        "<!-- no_image -->\n",
        "<g id=\"node1\" class=\"node\"><title>no_image</title>\n",
        "<ellipse fill=\"none\" stroke=\"black\" cx=\"27\" cy=\"-27.0755\" rx=\"27\" ry=\"18\"/>\n",
        "</g>\n",
        "<!-- image -->\n",
        "<g id=\"node3\" class=\"node\"><title>image</title>\n",
        "<ellipse fill=\"none\" stroke=\"black\" cx=\"165\" cy=\"-27.0755\" rx=\"39.8056\" ry=\"18\"/>\n",
        "<text text-anchor=\"middle\" x=\"165\" y=\"-22.9755\" font-family=\"Times Roman,serif\" font-size=\"14.00\">image</text>\n",
        "</g>\n",
        "<!-- no_image&#45;&gt;image -->\n",
        "<g id=\"edge2\" class=\"edge\"><title>no_image&#45;&gt;image</title>\n",
        "<path fill=\"none\" stroke=\"black\" d=\"M48.9234,-37.7802C56.103,-40.7556 64.2333,-43.5798 72,-45.0755 89.2514,-48.3978 108.3,-45.8129 124.641,-41.6723\"/>\n",
        "<polygon fill=\"black\" stroke=\"black\" points=\"125.74,-44.9993 134.426,-38.9321 123.852,-38.2586 125.74,-44.9993\"/>\n",
        "<text text-anchor=\"middle\" x=\"89\" y=\"-50.4755\" font-family=\"Times Roman,serif\" font-size=\"14.00\">build</text>\n",
        "</g>\n",
        "<!-- no_image&#45;&gt;image -->\n",
        "<g id=\"edge4\" class=\"edge\"><title>no_image&#45;&gt;image</title>\n",
        "<path fill=\"none\" stroke=\"black\" d=\"M54.1129,-24.975C60.006,-24.6004 66.2091,-24.2683 72,-24.0755 85.7664,-23.6172 100.679,-23.7969 114.448,-24.2406\"/>\n",
        "<polygon fill=\"black\" stroke=\"black\" points=\"114.592,-27.7484 124.716,-24.6251 114.854,-20.7533 114.592,-27.7484\"/>\n",
        "<text text-anchor=\"middle\" x=\"89\" y=\"-28.4755\" font-family=\"Times Roman,serif\" font-size=\"14.00\">pull</text>\n",
        "</g>\n",
        "<!-- image&#45;&gt;no_image -->\n",
        "<g id=\"edge6\" class=\"edge\"><title>image&#45;&gt;no_image</title>\n",
        "<path fill=\"none\" stroke=\"black\" d=\"M139.375,-12.8934C120.715,-4.34681 94.8201,3.83776 72,-2.07553 66.1251,-3.59786 60.2007,-6.07162 54.6663,-8.88495\"/>\n",
        "<polygon fill=\"black\" stroke=\"black\" points=\"52.8261,-5.90369 45.7983,-13.8321 56.2365,-12.0168 52.8261,-5.90369\"/>\n",
        "<text text-anchor=\"middle\" x=\"89\" y=\"-6.47553\" font-family=\"Times Roman,serif\" font-size=\"14.00\">rmi</text>\n",
        "</g>\n",
        "<!-- attached -->\n",
        "<g id=\"node7\" class=\"node\"><title>attached</title>\n",
        "<ellipse fill=\"none\" stroke=\"black\" cx=\"322\" cy=\"-57.0755\" rx=\"53.0059\" ry=\"18\"/>\n",
        "<text text-anchor=\"middle\" x=\"322\" y=\"-52.9755\" font-family=\"Times Roman,serif\" font-size=\"14.00\">attached</text>\n",
        "</g>\n",
        "<!-- image&#45;&gt;attached -->\n",
        "<g id=\"edge8\" class=\"edge\"><title>image&#45;&gt;attached</title>\n",
        "<path fill=\"none\" stroke=\"black\" d=\"M202.605,-34.2613C221.394,-37.8514 244.518,-42.2701 265.397,-46.2596\"/>\n",
        "<polygon fill=\"black\" stroke=\"black\" points=\"264.958,-49.739 275.437,-48.1781 266.271,-42.8633 264.958,-49.739\"/>\n",
        "<text text-anchor=\"middle\" x=\"237\" y=\"-46.4755\" font-family=\"Times Roman,serif\" font-size=\"14.00\">run</text>\n",
        "</g>\n",
        "<!-- running -->\n",
        "<g id=\"node9\" class=\"node\"><title>running</title>\n",
        "<ellipse fill=\"none\" stroke=\"black\" cx=\"498\" cy=\"-57.0755\" rx=\"48.8383\" ry=\"18\"/>\n",
        "<text text-anchor=\"middle\" x=\"498\" y=\"-52.9755\" font-family=\"Times Roman,serif\" font-size=\"14.00\">running</text>\n",
        "</g>\n",
        "<!-- attached&#45;&gt;running -->\n",
        "<g id=\"edge10\" class=\"edge\"><title>attached&#45;&gt;running</title>\n",
        "<path fill=\"none\" stroke=\"black\" d=\"M375.762,-57.0755C395.566,-57.0755 418.111,-57.0755 438.399,-57.0755\"/>\n",
        "<polygon fill=\"black\" stroke=\"black\" points=\"438.466,-60.5756 448.466,-57.0755 438.465,-53.5756 438.466,-60.5756\"/>\n",
        "<text text-anchor=\"middle\" x=\"412\" y=\"-61.4755\" font-family=\"Times Roman,serif\" font-size=\"14.00\">ctrl&#45;c</text>\n",
        "</g>\n",
        "<!-- running&#45;&gt;running -->\n",
        "<g id=\"edge12\" class=\"edge\"><title>running&#45;&gt;running</title>\n",
        "<path fill=\"none\" stroke=\"black\" d=\"M483.004,-74.4854C480.204,-84.1634 485.203,-93.0755 498,-93.0755 505.998,-93.0755 510.95,-89.5942 512.856,-84.6205\"/>\n",
        "<polygon fill=\"black\" stroke=\"black\" points=\"516.357,-84.533 512.996,-74.4854 509.358,-84.4359 516.357,-84.533\"/>\n",
        "<text text-anchor=\"middle\" x=\"498\" y=\"-97.4755\" font-family=\"Times Roman,serif\" font-size=\"14.00\">restart</text>\n",
        "</g>\n",
        "<!-- stopped -->\n",
        "<g id=\"node12\" class=\"node\"><title>stopped</title>\n",
        "<ellipse fill=\"none\" stroke=\"black\" cx=\"668\" cy=\"-44.0755\" rx=\"48.8383\" ry=\"18\"/>\n",
        "<text text-anchor=\"middle\" x=\"668\" y=\"-39.9755\" font-family=\"Times Roman,serif\" font-size=\"14.00\">stopped</text>\n",
        "</g>\n",
        "<!-- running&#45;&gt;stopped -->\n",
        "<g id=\"edge14\" class=\"edge\"><title>running&#45;&gt;stopped</title>\n",
        "<path fill=\"none\" stroke=\"black\" d=\"M545.112,-62.8779C562.426,-64.0921 582.155,-64.3974 600,-62.0755 606.672,-61.2074 613.622,-59.8793 620.42,-58.3294\"/>\n",
        "<polygon fill=\"black\" stroke=\"black\" points=\"621.344,-61.7067 630.224,-55.9275 619.678,-54.9078 621.344,-61.7067\"/>\n",
        "<text text-anchor=\"middle\" x=\"583\" y=\"-67.4755\" font-family=\"Times Roman,serif\" font-size=\"14.00\">stop</text>\n",
        "</g>\n",
        "<!-- stopped&#45;&gt;image -->\n",
        "<g id=\"edge18\" class=\"edge\"><title>stopped&#45;&gt;image</title>\n",
        "<path fill=\"none\" stroke=\"black\" d=\"M621.96,-37.3002C599.679,-34.3809 572.507,-31.3473 548,-30.0755 429.167,-23.909 289.323,-24.8977 215.907,-26.0514\"/>\n",
        "<polygon fill=\"black\" stroke=\"black\" points=\"215.508,-22.5574 205.567,-26.222 215.623,-29.5564 215.508,-22.5574\"/>\n",
        "<text text-anchor=\"middle\" x=\"412\" y=\"-29.4755\" font-family=\"Times Roman,serif\" font-size=\"14.00\">rm</text>\n",
        "</g>\n",
        "<!-- stopped&#45;&gt;running -->\n",
        "<g id=\"edge16\" class=\"edge\"><title>stopped&#45;&gt;running</title>\n",
        "<path fill=\"none\" stroke=\"black\" d=\"M619.88,-39.8044C602.817,-39.044 583.51,-39.0433 566,-41.0755 560.057,-41.7652 553.88,-42.7832 547.779,-43.9773\"/>\n",
        "<polygon fill=\"black\" stroke=\"black\" points=\"546.696,-40.629 537.639,-46.1264 548.148,-47.4769 546.696,-40.629\"/>\n",
        "<text text-anchor=\"middle\" x=\"583\" y=\"-45.4755\" font-family=\"Times Roman,serif\" font-size=\"14.00\">start</text>\n",
        "</g>\n",
        "</g>\n",
        "</svg>\n"
       ]
      }
     ],
     "prompt_number": 34
    }
   ],
   "metadata": {}
  }
 ]
}